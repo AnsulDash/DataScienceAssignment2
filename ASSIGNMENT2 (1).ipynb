{
 "cells": [
  {
   "cell_type": "code",
   "execution_count": 2,
   "id": "e8d4bf7b-ac0e-45bd-b22d-994ff68d42d8",
   "metadata": {},
   "outputs": [
    {
     "data": {
      "text/plain": [
       "' TOPIC: String Based Assignment Problem'"
      ]
     },
     "execution_count": 2,
     "metadata": {},
     "output_type": "execute_result"
    }
   ],
   "source": [
    "''' TOPIC: String Based Assignment Problem'''\n"
   ]
  },
  {
   "cell_type": "code",
   "execution_count": 10,
   "id": "aaeed67d-021e-43b7-9858-fbd8e0c7b44c",
   "metadata": {},
   "outputs": [
    {
     "data": {
      "text/plain": [
       "'lusna'"
      ]
     },
     "execution_count": 10,
     "metadata": {},
     "output_type": "execute_result"
    }
   ],
   "source": [
    "'''1. Write a program to reverse a string.'''\n",
    "h1=\"ansul\"\n",
    "h2= h1[::-1]\n",
    "h2"
   ]
  },
  {
   "cell_type": "code",
   "execution_count": 15,
   "id": "aee88ba6-0c45-4d5b-af1b-0a17a0b62322",
   "metadata": {},
   "outputs": [
    {
     "name": "stdout",
     "output_type": "stream",
     "text": [
      "this is a palindrome\n"
     ]
    }
   ],
   "source": [
    "#2. Check if a string is a palindrome. \"if the word is palindrome it will show the output otherwise no ouput\n",
    "h3=\"kak\"\n",
    "h4=h3[::-1]\n",
    "if (h4==h3):\n",
    "    print(\"this is a palindrome\")\n",
    "   "
   ]
  },
  {
   "cell_type": "code",
   "execution_count": 16,
   "id": "f4da5090-efb2-4b35-a414-33b17c30a9b0",
   "metadata": {},
   "outputs": [
    {
     "data": {
      "text/plain": [
       "'HIII WORLD'"
      ]
     },
     "execution_count": 16,
     "metadata": {},
     "output_type": "execute_result"
    }
   ],
   "source": [
    "#3. Convert a string to uppercase.\n",
    "h5=\"hiii world\"\n",
    "h5.upper()"
   ]
  },
  {
   "cell_type": "code",
   "execution_count": 17,
   "id": "73c52bb2-bcc5-4a76-ae01-91694950487d",
   "metadata": {},
   "outputs": [
    {
     "data": {
      "text/plain": [
       "'hello world'"
      ]
     },
     "execution_count": 17,
     "metadata": {},
     "output_type": "execute_result"
    }
   ],
   "source": [
    "#4. Convert a string to lowercase.\n",
    "h7=\"HELLO WORLD\"\n",
    "h7.lower()"
   ]
  },
  {
   "cell_type": "code",
   "execution_count": 34,
   "id": "411f2732-4a54-4762-a375-f78e08127c7c",
   "metadata": {},
   "outputs": [
    {
     "data": {
      "text/plain": [
       "1"
      ]
     },
     "execution_count": 34,
     "metadata": {},
     "output_type": "execute_result"
    }
   ],
   "source": [
    "#5. Count the number of vowels in a string.\n",
    "h9=\"pwskills\"\n",
    "a1=h9.count(\"a\")\n",
    "a2=h9.count(\"e\")\n",
    "a3=h9.count(\"i\")\n",
    "a4=h9.count(\"o\")\n",
    "a5=h9.count(\"u\")\n",
    "sum=a1+a2+a3+a4+a5\n",
    "sum\n"
   ]
  },
  {
   "cell_type": "code",
   "execution_count": 35,
   "id": "46a42600-6686-4679-864a-bcac597c3e41",
   "metadata": {},
   "outputs": [
    {
     "data": {
      "text/plain": [
       "7"
      ]
     },
     "execution_count": 35,
     "metadata": {},
     "output_type": "execute_result"
    }
   ],
   "source": [
    "#6.Count the number of consonants in a string.\n",
    "a6=len(\"pwskills\")\n",
    "consonants=a6-sum\n",
    "consonants"
   ]
  },
  {
   "cell_type": "code",
   "execution_count": 36,
   "id": "6d575534-747d-400a-8bfe-8d8f111792a0",
   "metadata": {},
   "outputs": [
    {
     "data": {
      "text/plain": [
       "'hiii'"
      ]
     },
     "execution_count": 36,
     "metadata": {},
     "output_type": "execute_result"
    }
   ],
   "source": [
    "#7.Remove all whitespaces from a string.\n",
    "a7=\"    hiii   \"\n",
    "a7.strip()"
   ]
  },
  {
   "cell_type": "code",
   "execution_count": 2,
   "id": "4d21065a-0625-4513-b257-2a849ce539d8",
   "metadata": {},
   "outputs": [
    {
     "data": {
      "text/plain": [
       "5"
      ]
     },
     "execution_count": 2,
     "metadata": {},
     "output_type": "execute_result"
    }
   ],
   "source": [
    "#8. Find the length of a string without using the `len()` function.\n",
    "a8=\"hello\"\n",
    "count=0\n",
    "for i in a8:\n",
    "   count+=1\n",
    "count"
   ]
  },
  {
   "cell_type": "code",
   "execution_count": 3,
   "id": "1f0e6780-d363-421b-9870-18b5a0c8793f",
   "metadata": {},
   "outputs": [
    {
     "name": "stdout",
     "output_type": "stream",
     "text": [
      "string has that word\n"
     ]
    }
   ],
   "source": [
    "#9. Check if a string contains a specific word.\n",
    "string=\"hello pwskills,this my first class\"\n",
    "found=string.rfind(\"hello\")\n",
    "if(found != -1):\n",
    "    print(\"string has that word\")\n"
   ]
  },
  {
   "cell_type": "code",
   "execution_count": 4,
   "id": "6c6a1e63-d4d0-4214-a612-85ca6866a53a",
   "metadata": {},
   "outputs": [
    {
     "data": {
      "text/plain": [
       "'hi pwskills,this my first class'"
      ]
     },
     "execution_count": 4,
     "metadata": {},
     "output_type": "execute_result"
    }
   ],
   "source": [
    "#10.Replace a word in a string with another word.\n",
    "string=\"hello pwskills,this my first class\"\n",
    "string.replace(\"hello\",\"hi\")"
   ]
  },
  {
   "cell_type": "code",
   "execution_count": 5,
   "id": "db624585-36e6-40f5-b550-2372fdededca",
   "metadata": {},
   "outputs": [
    {
     "name": "stdout",
     "output_type": "stream",
     "text": [
      "count of hello in the string is :2\n"
     ]
    }
   ],
   "source": [
    "#11. Count the occurrences of a word in a string.\n",
    "string=\"hello , hello pwskills,this my first class\"\n",
    "counter=string.count(\"hello\")\n",
    "print(\"count of hello in the string is :\" +str(counter))\n"
   ]
  },
  {
   "cell_type": "code",
   "execution_count": 7,
   "id": "d602faa6-b932-4315-b0bb-5e3c49218dc8",
   "metadata": {},
   "outputs": [
    {
     "name": "stdout",
     "output_type": "stream",
     "text": [
      "29\n"
     ]
    }
   ],
   "source": [
    "#12. Find the first occurrence of a word in a string.\n",
    "word = 'there is a dog in the street for eating food'\n",
    "print(word.find('for'))"
   ]
  },
  {
   "cell_type": "code",
   "execution_count": 10,
   "id": "98bd74dd-129b-4593-86cb-066bfd3e5383",
   "metadata": {},
   "outputs": [
    {
     "name": "stdout",
     "output_type": "stream",
     "text": [
      "The last index of t in the given string is 57\n"
     ]
    }
   ],
   "source": [
    "#13. Find the last occurence of a word in as string.\n",
    "str1 = \"Welcome to physics wala skills , it is physics wallah in physics platform\"\n",
    "\n",
    "index = str1.rindex('physics')\n",
    "print(\"The last index of t in the given string is\",index)"
   ]
  },
  {
   "cell_type": "code",
   "execution_count": 11,
   "id": "7d7aed44-cbc1-4f28-9c83-c2da9423d343",
   "metadata": {},
   "outputs": [
    {
     "name": "stdout",
     "output_type": "stream",
     "text": [
      "['pwskiils', 'is', 'platform']\n"
     ]
    }
   ],
   "source": [
    "#14. Split a string into a list of words.\n",
    "str2=\"pwskiils is platform\"\n",
    "print(str2.split())"
   ]
  },
  {
   "cell_type": "code",
   "execution_count": 1,
   "id": "eb78c14d-2506-4465-989a-0011bdc33150",
   "metadata": {},
   "outputs": [
    {
     "name": "stdout",
     "output_type": "stream",
     "text": [
      "geeks\n",
      " $g$e$e$k$s$ \n"
     ]
    }
   ],
   "source": [
    "#15. Join a list of words into a string.\n",
    "# Joining with empty separator\n",
    "list1 = ['g', 'e', 'e', 'k', 's']\n",
    "print(\"\".join(list1))\n",
    "\n",
    "# Joining with string\n",
    "list1 = \" geeks \"\n",
    "print(\"$\".join(list1))\n",
    "\n"
   ]
  },
  {
   "cell_type": "code",
   "execution_count": 9,
   "id": "6ba6c4c1-32c3-4d24-9c1c-586ffb30e26a",
   "metadata": {},
   "outputs": [
    {
     "data": {
      "text/plain": [
       "'hello_world'"
      ]
     },
     "execution_count": 9,
     "metadata": {},
     "output_type": "execute_result"
    }
   ],
   "source": [
    "#16. Convert a string where words are separated by spaces to one where words are separated by underscores.\n",
    "str3=\"hello world\"\n",
    "str3.replace(\" \",\"_\")\n"
   ]
  },
  {
   "cell_type": "code",
   "execution_count": 10,
   "id": "cb432f0a-0c37-4c4c-9f65-136d6eb2de7a",
   "metadata": {},
   "outputs": [
    {
     "name": "stdout",
     "output_type": "stream",
     "text": [
      "True\n",
      "False\n"
     ]
    }
   ],
   "source": [
    "#Check if a string starts with a specific word or phrase.\n",
    "var = \"Gods are for people\"\n",
    " \n",
    "print(var.startswith(\"Gods\"))\n",
    "print(var.startswith(\"Hello\"))"
   ]
  },
  {
   "cell_type": "code",
   "execution_count": 13,
   "id": "c44cd4e7-263f-4e75-b26b-3aa5a29c0e33",
   "metadata": {},
   "outputs": [
    {
     "data": {
      "text/plain": [
       "'Hello World'"
      ]
     },
     "execution_count": 13,
     "metadata": {},
     "output_type": "execute_result"
    }
   ],
   "source": [
    "#19. Convert a string to title case (e.g., \"hello world\" to \"Hello World\").\n",
    "str3=\"hello world\"\n",
    "str3.title()"
   ]
  },
  {
   "cell_type": "code",
   "execution_count": 20,
   "id": "c48cf301-acd3-4523-a15d-117d70e3df8a",
   "metadata": {},
   "outputs": [
    {
     "name": "stdout",
     "output_type": "stream",
     "text": [
      "code practice quiz pw\n"
     ]
    }
   ],
   "source": [
    "# Reverse the order of words in a string.\n",
    "string = \"pw quiz practice code\"\n",
    "s = string.split()[::-1]\n",
    "l = []\n",
    "for i in s:\n",
    " l.append(i)\n",
    "print(\" \".join(l))\n"
   ]
  },
  {
   "cell_type": "code",
   "execution_count": 30,
   "id": "da720fe9-bef9-437c-9799-acd2657d86bb",
   "metadata": {},
   "outputs": [
    {
     "name": "stdout",
     "output_type": "stream",
     "text": [
      " practise is the largest word in the string \n"
     ]
    }
   ],
   "source": [
    "# Find the longest word in a string.\n",
    "string =\"pw quiz practice code\"\n",
    "s=string.split()[::1]\n",
    "l=[]\n",
    "for i in s:\n",
    "    l.append(i)\n",
    "    \n",
    "if(len(l[0])>len(l[1]) and len(l[0])>len(l[2]) and len(l[0])>len(l[3])):\n",
    "   print(\"pw is the largest word in the string \")\n",
    "\n",
    "if(len(l[1])>len(l[0]) and len(l[1])>len(l[2]) and len(l[1])>len(l[3])):\n",
    "   print(\"quiz is the largest word in the string \")\n",
    "\n",
    "if(len(l[2])>len(l[1]) and len(l[2])>len(l[0]) and len(l[2])>len(l[3])):\n",
    " print(\" practise is the largest word in the string \")\n",
    "\n",
    "if(len(l[3])>len(l[1]) and len(l[3])>len(l[2]) and len(l[3])>len(l[0])):\n",
    "   print(\"code is the largest word in the string \")\n",
    "\n",
    "\n",
    "\n"
   ]
  },
  {
   "cell_type": "code",
   "execution_count": 31,
   "id": "11a7d824-1a67-4abf-88bd-bf5e98cbb98a",
   "metadata": {},
   "outputs": [
    {
     "name": "stdout",
     "output_type": "stream",
     "text": [
      "False\n"
     ]
    }
   ],
   "source": [
    "#Check if a string is alphanumeric.\n",
    "txt = \"Company 12\"\n",
    "\n",
    "x = txt.isalnum()\n",
    "\n",
    "print(x)"
   ]
  },
  {
   "cell_type": "code",
   "execution_count": 33,
   "id": "f8a57606-38a0-43fe-9b45-2f20899b84c9",
   "metadata": {},
   "outputs": [
    {
     "name": "stdout",
     "output_type": "stream",
     "text": [
      "The original string : There are 2 apples for 4 persons\n",
      "The numbers list is :[2, 4]\n"
     ]
    }
   ],
   "source": [
    "#Extract all digits from a string.\n",
    "test_string = \"There are 2 apples for 4 persons\"\n",
    "print(\"The original string : \" + test_string)\n",
    "res = [int(i) for i in test_string.split() if i.isdigit()]\n",
    "print(\"The numbers list is :\" + str(res))\n",
    "\n"
   ]
  },
  {
   "cell_type": "code",
   "execution_count": 37,
   "id": "08e9ca43-b5dd-48a5-ab18-eec0bf892a70",
   "metadata": {},
   "outputs": [
    {
     "name": "stdin",
     "output_type": "stream",
     "text": [
      "Enter a string:  here are 2 apples for 4 persons\n"
     ]
    },
    {
     "name": "stdout",
     "output_type": "stream",
     "text": [
      "hereareapplesforpersons\n"
     ]
    }
   ],
   "source": [
    "#Extract all alphabets from a string.\n",
    "\n",
    "string = input(\"Enter a string: \")\n",
    "only_alpha = \"\"\n",
    "for char in string:\n",
    " if ord(char) >= 65 and ord(char) <= 90:\n",
    "  only_alpha += char\n",
    " elif ord(char) >= 97 and ord(char) <= 122:\n",
    "  only_alpha += char\n",
    "\n",
    "print(only_alpha)"
   ]
  },
  {
   "cell_type": "code",
   "execution_count": 39,
   "id": "ac1352a1-8ff4-46f3-a53c-50566c1f4a26",
   "metadata": {},
   "outputs": [
    {
     "name": "stdin",
     "output_type": "stream",
     "text": [
      "Enter string: he IS a \n"
     ]
    },
    {
     "name": "stdout",
     "output_type": "stream",
     "text": [
      "The number of lowercase characters is:\n",
      "3\n",
      "The number of uppercase characters is:\n",
      "2\n"
     ]
    }
   ],
   "source": [
    "# Count the number of uppercase letters in a string.\n",
    "#. Count the number of lowercase letters in a string.\n",
    "string=input(\"Enter string:\")\n",
    "count1=0\n",
    "count2=0\n",
    "for i in string:\n",
    "      if(i.islower()):\n",
    "            count1=count1+1\n",
    "      elif(i.isupper()):\n",
    "            count2=count2+1\n",
    "print(\"The number of lowercase characters is:\")\n",
    "print(count1)\n",
    "print(\"The number of uppercase characters is:\")\n",
    "print(count2)"
   ]
  },
  {
   "cell_type": "code",
   "execution_count": 40,
   "id": "bc2a8436-0ecc-4d51-9650-1814c158b24a",
   "metadata": {},
   "outputs": [
    {
     "name": "stdout",
     "output_type": "stream",
     "text": [
      "dAtAsciENcE\n"
     ]
    }
   ],
   "source": [
    "#Swap the case of each character in a string.\n",
    "string = \"DaTaSCIenCe\"\n",
    "print(string.swapcase())"
   ]
  },
  {
   "cell_type": "code",
   "execution_count": 45,
   "id": "52c00afc-dc12-421d-aa1f-91caae8c5b54",
   "metadata": {},
   "outputs": [
    {
     "data": {
      "text/plain": [
       "'he is  programmer'"
      ]
     },
     "execution_count": 45,
     "metadata": {},
     "output_type": "execute_result"
    }
   ],
   "source": [
    "#Remove a specific word from a string.\n",
    "string = \"he is good programmer\"\n",
    "string.replace(\"good\",\"\")"
   ]
  },
  {
   "cell_type": "code",
   "execution_count": 48,
   "id": "4fd5957e-ccb6-4de3-b2a3-105dcf58d058",
   "metadata": {},
   "outputs": [
    {
     "name": "stdout",
     "output_type": "stream",
     "text": [
      "ansul is coding\n"
     ]
    }
   ],
   "source": [
    "#replace multiple spaces with a single space \n",
    "my_str = 'ansul     is    coding'\n",
    "result = \" \".join(my_str.split())\n",
    "print(result) \n"
   ]
  },
  {
   "cell_type": "code",
   "execution_count": 52,
   "id": "94834789-c0e3-4ec1-9eef-2a3513767316",
   "metadata": {},
   "outputs": [
    {
     "name": "stdout",
     "output_type": "stream",
     "text": [
      "Count of all characters in  is physicswallahpw :\n",
      " {'p': 2, 'h': 2, 'y': 1, 's': 2, 'i': 1, 'c': 1, 'w': 2, 'a': 2, 'l': 2}\n"
     ]
    }
   ],
   "source": [
    " # Find the frequency of each character in a string.\n",
    "   \n",
    " test_str = \"physicswallahpw\"\n",
    "all_freq = {}\n",
    "\n",
    "for i in test_str:\n",
    "\tif i in all_freq:\n",
    "\t\tall_freq[i] += 1\n",
    "\telse:\n",
    "\t\tall_freq[i] = 1\n",
    "\n",
    "\n",
    "print(\"Count of all characters in  is physicswallahpw :\\n \"\n",
    "\t+ str(all_freq))\n",
    "\n",
    "    "
   ]
  },
  {
   "cell_type": "code",
   "execution_count": 68,
   "id": "4eacb74e-a68a-4e81-9198-85acff9e819c",
   "metadata": {},
   "outputs": [
    {
     "name": "stdout",
     "output_type": "stream",
     "text": [
      "The original string is : pw, is best : for ! pw ;\n",
      "The string after punctuation filter : pw is best  for  pw \n"
     ]
    }
   ],
   "source": [
    "#remove all punctuation from a string.\n",
    "\n",
    "test_str = \"pw, is best : for ! pw ;\"\n",
    "print(\"The original string is : \" + test_str)\n",
    "punc = '''!()-[]{};:'\"\\,<>./?@#$%^&*_~'''\n",
    "\n",
    "\n",
    "for ele in test_str:\n",
    "\tif ele in punc:\n",
    "\t\ttest_str = test_str.replace(ele, \"\")\n",
    "print(\"The string after punctuation filter : \" + test_str)\n"
   ]
  },
  {
   "cell_type": "code",
   "execution_count": 1,
   "id": "a9cea304-6dd5-47e3-822a-e632fdbf74cf",
   "metadata": {},
   "outputs": [
    {
     "name": "stdout",
     "output_type": "stream",
     "text": [
      "Initial Strings :  1234556 ab123bc\n",
      "String1 contains all numbers\n",
      "String2 doesn't contains all numbers\n"
     ]
    }
   ],
   "source": [
    "'''check whether a string contains only numbers or only alphabets.'''\n",
    "\n",
    "ini_string1 = '1234556'\n",
    "ini_string2 = 'ab123bc'\n",
    "\n",
    "\n",
    "print(\"Initial Strings : \", ini_string1, ini_string2)\n",
    "\n",
    "\n",
    "if ini_string1.isdigit():\n",
    "\tprint(\"String1 contains all numbers\")\n",
    "else:\n",
    "\tprint(\"String1 doesn't contains all numbers\")\n",
    "\n",
    "if ini_string2.isdigit():\n",
    "\tprint(\"String2 contains all numbers\")\n",
    "else:\n",
    "\tprint(\"String2 doesn't contains all numbers\")\n"
   ]
  },
  {
   "cell_type": "code",
   "execution_count": 4,
   "id": "c6600f6c-dcd0-469c-8af9-f83d696cd1d9",
   "metadata": {},
   "outputs": [
    {
     "data": {
      "text/plain": [
       "['pw', 'quiz', 'practice', 'code']"
      ]
     },
     "execution_count": 4,
     "metadata": {},
     "output_type": "execute_result"
    }
   ],
   "source": [
    "#covert  a string to a list of charecters\n",
    "string = \"pw quiz practice code\"\n",
    "s = string.split()[::1]\n",
    "l = []\n",
    "for i in s:\n",
    " l.append(i)\n",
    "l"
   ]
  },
  {
   "cell_type": "code",
   "execution_count": 4,
   "id": "f0000ef6-f727-41f1-b936-bd1a8d1016f9",
   "metadata": {},
   "outputs": [
    {
     "name": "stdout",
     "output_type": "stream",
     "text": [
      "race and care are anagram.\n"
     ]
    }
   ],
   "source": [
    "#check if 2 given strings are anagrams\n",
    "str1 = \"Race\"\n",
    "str2 = \"Care\"\n",
    "\n",
    "str1 = str1.lower()\n",
    "str2 = str2.lower()\n",
    "\n",
    "if(len(str1) == len(str2)):\n",
    "\n",
    "\n",
    "    sorted_str1 = sorted(str1)\n",
    "    sorted_str2 = sorted(str2)\n",
    "\n",
    "    if(sorted_str1 == sorted_str2):\n",
    "        print(str1 + \" and \" + str2 + \" are anagram.\")\n",
    "    else:\n",
    "        print(str1 + \" and \" + str2 + \" are not anagram.\")\n",
    "\n",
    "else:\n",
    "    print(str1 + \" and \" + str2 + \" are not anagram.\")"
   ]
  },
  {
   "cell_type": "code",
   "execution_count": 5,
   "id": "6426a30b-1c63-4f16-aca5-27bf60ba8fbb",
   "metadata": {},
   "outputs": [
    {
     "name": "stdout",
     "output_type": "stream",
     "text": [
      "This\n"
     ]
    }
   ],
   "source": [
    "#Encode a string using a Caesar cipher.\n",
    "def most_frequent(str1):\n",
    "    \"\"\"Find the most frequent word in a string.\"\"\"\n",
    " \n",
    "    words = str1.split()\n",
    "\n",
    "\n",
    "    frequency = {}\n",
    "    for word in words:\n",
    "        if word in frequency:\n",
    "            frequency[word] += 1\n",
    "        else:\n",
    "            frequency[word] = 1\n",
    "\n",
    "  \n",
    "    most_frequent_word = max(frequency, key=frequency.get)\n",
    "\n",
    "    return most_frequent_word\n",
    "\n",
    "\n",
    "\n",
    "string = \"This is a test string with repeated words.\"\n",
    "most_frequent_word = most_frequent(string)\n",
    "print(most_frequent_word)\n"
   ]
  },
  {
   "cell_type": "code",
   "execution_count": 6,
   "id": "8c874203-16a0-47be-b45a-a91c78232d92",
   "metadata": {},
   "outputs": [
    {
     "name": "stdout",
     "output_type": "stream",
     "text": [
      "In \"coding\" I count 2 syllables\n"
     ]
    }
   ],
   "source": [
    "#count the no. of syllabels in a string\n",
    "def count_syllables(word):\n",
    "    word = word.lower()\n",
    "    counter = 0\n",
    "    is_previous_vowel = False\n",
    "    for index, value in enumerate(word):\n",
    "        if value in [\"a\", \"e\", \"i\", \"o\", \"u\", \"y\"]:\n",
    "            if index == len(word) - 1:\n",
    "                if value == \"e\":\n",
    "                    if counter == 0:\n",
    "                        counter += 1\n",
    "                else:\n",
    "                    counter += 1\n",
    "            else:\n",
    "                if is_previous_vowel == True:\n",
    "                    counter += 1\n",
    "                    is_previous_vowel = False\n",
    "                    break\n",
    "            is_previous_vowel = True\n",
    "        else:\n",
    "            if is_previous_vowel == True:\n",
    "                counter += 1\n",
    "            is_previous_vowel = False\n",
    "    print (\"In \\\"{}\\\" I count {} syllables\".format(word, counter))\n",
    "\n",
    "count_syllables(\"coding\")"
   ]
  },
  {
   "cell_type": "code",
   "execution_count": 7,
   "id": "6167876a-cbd2-483b-8bb3-baa5b6baac2e",
   "metadata": {},
   "outputs": [
    {
     "name": "stdout",
     "output_type": "stream",
     "text": [
      "New list is : ['he', 'is', 'ankit', 'is', 'raj', 'is', 'ankit raj']\n"
     ]
    }
   ],
   "source": [
    "#remove the nth charecter from a list \n",
    "def remove_word(list1, word, n1):\n",
    "\tdef generator():\n",
    "\t\tcount = 0\n",
    "\t\tfor i in list1:\n",
    "\t\t\tif i != word or (i == word and count != n1):\n",
    "\t\t\t\tyield i\n",
    "\t\t\tif i == word:\n",
    "\t\t\t\tcount += 1\n",
    "\treturn list(generator())\n",
    "\n",
    "# Driver code\n",
    "list1 = [\"he\", \"is\", \"ankit\", \"is\", \"raj\", \"is\", \"ankit raj\"]\n",
    "word = \"is\"\n",
    "n1 = 3\n",
    "\n",
    "print(\"New list is :\", remove_word(list1, word, n1))\n",
    "\n"
   ]
  },
  {
   "cell_type": "code",
   "execution_count": 8,
   "id": "f6df008f-a610-434f-97c9-b614aeae32a3",
   "metadata": {},
   "outputs": [
    {
     "name": "stdout",
     "output_type": "stream",
     "text": [
      "[[''], ['1', '2', '3'], ['4', '5', '6'], ['7', '8', '9']]\n"
     ]
    }
   ],
   "source": [
    "#Convert a CSV string to a list of lists.\n",
    "\n",
    "def convert_csv_to_list_of_lists(csv_string):\n",
    "  list_of_lists = []\n",
    "  for line in csv_string.splitlines():\n",
    "    sublist = []\n",
    "    for value in line.split(\",\"):\n",
    "      # Remove any quotes around the value.\n",
    "      value = value.strip('\"')\n",
    "      # Append the value to the sublist.\n",
    "      sublist.append(value)\n",
    "    # Append the sublist to the list of lists.\n",
    "    list_of_lists.append(sublist)\n",
    "  return list_of_lists\n",
    "\n",
    "# Example usage:\n",
    "\n",
    "csv_string = \"\"\"\n",
    "1,2,3\n",
    "4,5,6\n",
    "7,8,9\n",
    "\"\"\"\n",
    "\n",
    "list_of_lists = convert_csv_to_list_of_lists(csv_string)\n",
    "\n",
    "print(list_of_lists)"
   ]
  },
  {
   "cell_type": "code",
   "execution_count": 1,
   "id": "f05f7a70-a59c-4c56-8627-12f38f9888b5",
   "metadata": {},
   "outputs": [
    {
     "data": {
      "text/plain": [
       "'List Based Practice Problem :'"
      ]
     },
     "execution_count": 1,
     "metadata": {},
     "output_type": "execute_result"
    }
   ],
   "source": [
    "'''List Based Practice Problem :'''"
   ]
  },
  {
   "cell_type": "code",
   "execution_count": 2,
   "id": "93c02535-d3f9-4bda-911d-c4203c3430bb",
   "metadata": {},
   "outputs": [
    {
     "name": "stdout",
     "output_type": "stream",
     "text": [
      "[1, 2, 3, 4, 5, 6, 7, 8, 9, 10]\n"
     ]
    }
   ],
   "source": [
    "#Create a list with integers from 1 to 10.\n",
    "integer_list = [i for i in range(1, 11)]\n",
    "print(integer_list)\n"
   ]
  },
  {
   "cell_type": "code",
   "execution_count": 3,
   "id": "d0581497-de5a-4178-84e3-3eee93dbf13b",
   "metadata": {},
   "outputs": [
    {
     "name": "stdout",
     "output_type": "stream",
     "text": [
      "Length of the list: 6\n"
     ]
    }
   ],
   "source": [
    "#Find the length of a list without using the `len()` function.\n",
    "def custom_len(input_list):\n",
    "    count = 0\n",
    "    for _ in input_list:\n",
    "        count += 1\n",
    "    return count\n",
    "\n",
    "my_list = [100, 200, 300, 400, 500,600]\n",
    "length = custom_len(my_list)\n",
    "print(\"Length of the list:\", length)\n"
   ]
  },
  {
   "cell_type": "code",
   "execution_count": 4,
   "id": "0e0a05c2-1ede-4324-8840-bbfff55f0b66",
   "metadata": {},
   "outputs": [
    {
     "name": "stdout",
     "output_type": "stream",
     "text": [
      "Updated list: [10, 20, 30, 40]\n"
     ]
    }
   ],
   "source": [
    "#Append an element to the end of a list.\n",
    "my_list = [10, 20, 30]\n",
    "new_element = 40\n",
    "my_list.append(new_element)\n",
    "print(\"Updated list:\", my_list)\n"
   ]
  },
  {
   "cell_type": "code",
   "execution_count": 5,
   "id": "2885e742-85ea-4f90-8454-bafb1edb8c83",
   "metadata": {},
   "outputs": [
    {
     "name": "stdout",
     "output_type": "stream",
     "text": [
      "Updated list: [10, 20, 25, 30, 40, 50]\n"
     ]
    }
   ],
   "source": [
    "#Insert an element at a specific index in a list.\n",
    "# Example list\n",
    "my_list = [10, 20, 30, 40, 50]\n",
    "new_element = 25\n",
    "index_to_insert = 2\n",
    "my_list.insert(index_to_insert, new_element)\n",
    "print(\"Updated list:\", my_list)\n"
   ]
  },
  {
   "cell_type": "code",
   "execution_count": 6,
   "id": "bbba2632-04a4-41aa-95e0-0bb61edce053",
   "metadata": {},
   "outputs": [
    {
     "name": "stdout",
     "output_type": "stream",
     "text": [
      "Updated list: [10, 20, 40, 50]\n"
     ]
    }
   ],
   "source": [
    "#Remove an element from a list by its value.\n",
    "# Example list\n",
    "my_list = [10, 20, 30, 40, 50]\n",
    "element_to_remove = 30\n",
    "my_list.remove(element_to_remove)\n",
    "print(\"Updated list:\", my_list)\n"
   ]
  },
  {
   "cell_type": "code",
   "execution_count": 7,
   "id": "600b2465-211d-4902-b4d6-6fd4ad2abfe8",
   "metadata": {},
   "outputs": [
    {
     "name": "stdout",
     "output_type": "stream",
     "text": [
      "Updated list: [10, 20, 40, 50]\n",
      "Removed element: 30\n"
     ]
    }
   ],
   "source": [
    "#Remove an element from a list by its index.\n",
    "# Example list\n",
    "my_list = [10, 20, 30, 40, 50]\n",
    "index_to_remove = 2\n",
    "removed_element = my_list.pop(index_to_remove)\n",
    "print(\"Updated list:\", my_list)\n",
    "print(\"Removed element:\", removed_element)"
   ]
  },
  {
   "cell_type": "code",
   "execution_count": 8,
   "id": "a3b11a47-6f97-494e-8659-cc294053d5af",
   "metadata": {},
   "outputs": [
    {
     "name": "stdout",
     "output_type": "stream",
     "text": [
      "30 exists in the list.\n"
     ]
    }
   ],
   "source": [
    "# Check if an element exists in a list.\n",
    "my_list = [10, 20, 30, 40, 50]\n",
    "element_to_check = 30\n",
    "if element_to_check in my_list:\n",
    "    print(f\"{element_to_check} exists in the list.\")\n",
    "else:\n",
    "    print(f\"{element_to_check} does not exist in the list.\")\n"
   ]
  },
  {
   "cell_type": "code",
   "execution_count": 9,
   "id": "0a464e23-5ca2-495b-8b2c-4aea401b70ac",
   "metadata": {},
   "outputs": [
    {
     "name": "stdout",
     "output_type": "stream",
     "text": [
      "The index of 30 is 2\n"
     ]
    }
   ],
   "source": [
    "#Find the index of the first occurrence of an element in a list.\n",
    "\n",
    "my_list = [10, 20, 30, 40, 50, 30]\n",
    "\n",
    "element_to_find = 30\n",
    "\n",
    "index = my_list.index(element_to_find)\n",
    "\n",
    "print(f\"The index of {element_to_find} is {index}\")"
   ]
  },
  {
   "cell_type": "code",
   "execution_count": 10,
   "id": "14b231ea-157c-4be5-a0b5-84c8e059f231",
   "metadata": {},
   "outputs": [
    {
     "name": "stdout",
     "output_type": "stream",
     "text": [
      "The element 30 occurs 3 times in the list.\n"
     ]
    }
   ],
   "source": [
    "#Count the occurrences of an element in a list.\n",
    "my_list = [10, 20, 30, 40, 50, 30, 30]\n",
    "\n",
    "element_to_count = 30\n",
    "\n",
    "count = my_list.count(element_to_count)\n",
    "\n",
    "print(f\"The element {element_to_count} occurs {count} times in the list.\")"
   ]
  },
  {
   "cell_type": "code",
   "execution_count": 11,
   "id": "abf430da-d41b-4d77-a0d5-6a8b6539ebd1",
   "metadata": {},
   "outputs": [
    {
     "name": "stdout",
     "output_type": "stream",
     "text": [
      "Reversed list: [50, 40, 30, 20, 10]\n"
     ]
    }
   ],
   "source": [
    "#Reverse the order of elements in a list.\n",
    "\n",
    "my_list = [10, 20, 30, 40, 50]\n",
    "\n",
    "my_list.reverse()\n",
    "\n",
    "print(\"Reversed list:\", my_list)\n"
   ]
  },
  {
   "cell_type": "code",
   "execution_count": 12,
   "id": "08f08846-1edf-467d-8ed3-8b65ca8fceef",
   "metadata": {},
   "outputs": [
    {
     "name": "stdout",
     "output_type": "stream",
     "text": [
      "Sorted list in ascending order: [10, 20, 30, 40, 50]\n"
     ]
    }
   ],
   "source": [
    "#Sort a list in ascending order.\n",
    "my_list = [50, 10, 30, 40, 20]\n",
    "\n",
    "my_list.sort()\n",
    "\n",
    "print(\"Sorted list in ascending order:\", my_list)"
   ]
  },
  {
   "cell_type": "code",
   "execution_count": 13,
   "id": "69547621-d042-40f0-86ee-322fb4d3aac6",
   "metadata": {},
   "outputs": [
    {
     "name": "stdout",
     "output_type": "stream",
     "text": [
      "Sorted list in descending order: [50, 40, 30, 20, 10]\n"
     ]
    }
   ],
   "source": [
    "#Sort a list in descending order.\n",
    "my_list = [50, 10, 30, 40, 20]\n",
    "\n",
    "my_list.sort(reverse=True)\n",
    "\n",
    "print(\"Sorted list in descending order:\", my_list)\n"
   ]
  },
  {
   "cell_type": "code",
   "execution_count": 14,
   "id": "8bfc2d96-cceb-418e-bf7a-2d14ee5c85c2",
   "metadata": {},
   "outputs": [
    {
     "name": "stdout",
     "output_type": "stream",
     "text": [
      "List of even numbers: [2, 4, 6, 8, 10, 12, 14, 16, 18, 20]\n"
     ]
    }
   ],
   "source": [
    "# Create a list of even numbers from 1 to 20.\n",
    "even_numbers = [x for x in range(2, 21, 2)]\n",
    "print(\"List of even numbers:\", even_numbers)\n"
   ]
  },
  {
   "cell_type": "code",
   "execution_count": 15,
   "id": "028ef829-4cb9-479d-9b2c-96830f7b4988",
   "metadata": {},
   "outputs": [
    {
     "name": "stdout",
     "output_type": "stream",
     "text": [
      "List of odd numbers: [1, 3, 5, 7, 9, 11, 13, 15, 17, 19]\n"
     ]
    }
   ],
   "source": [
    "# Create a list of odd numbers from 1 to 20.\n",
    "odd_numbers = [x for x in range(1, 21, 2)]\n",
    "print(\"List of odd numbers:\", odd_numbers)"
   ]
  },
  {
   "cell_type": "code",
   "execution_count": 16,
   "id": "5c7db0c1-bdbb-4e13-a666-b269c283157c",
   "metadata": {},
   "outputs": [
    {
     "name": "stdout",
     "output_type": "stream",
     "text": [
      "Sum of elements: 150\n"
     ]
    }
   ],
   "source": [
    "#Find the sum of all elements in a list.\n",
    "my_list = [10, 20, 30, 40, 50]\n",
    "total_sum = sum(my_list)\n",
    "print(\"Sum of elements:\", total_sum)"
   ]
  },
  {
   "cell_type": "code",
   "execution_count": 17,
   "id": "daca41cc-c84b-4afb-96cc-df56bad07acd",
   "metadata": {},
   "outputs": [
    {
     "name": "stdout",
     "output_type": "stream",
     "text": [
      "Maximum value: 50\n"
     ]
    }
   ],
   "source": [
    "#Find the maximum value in a list.\n",
    "my_list = [10, 20, 30, 40, 50]\n",
    "max_value = max(my_list)\n",
    "print(\"Maximum value:\", max_value)"
   ]
  },
  {
   "cell_type": "code",
   "execution_count": 18,
   "id": "bca17f73-b023-46ff-97e6-bf8c007036f0",
   "metadata": {},
   "outputs": [
    {
     "name": "stdout",
     "output_type": "stream",
     "text": [
      "Minimum value: 10\n"
     ]
    }
   ],
   "source": [
    "#Find the minimum value in a list.\n",
    "\n",
    "my_list = [10, 20, 30, 40, 50]\n",
    "min_value = min(my_list)\n",
    "print(\"Minimum value:\", min_value)"
   ]
  },
  {
   "cell_type": "code",
   "execution_count": 19,
   "id": "f7a2d4e6-03b7-4a9e-89be-6932d54b0b20",
   "metadata": {},
   "outputs": [
    {
     "name": "stdout",
     "output_type": "stream",
     "text": [
      "List of squares: [1, 4, 9, 16, 25, 36, 49, 64, 81, 100]\n"
     ]
    }
   ],
   "source": [
    "#Create a list of squares of numbers from 1 to 10.\n",
    "squares = [x ** 2 for x in range(1, 11)]\n",
    "print(\"List of squares:\", squares)\n"
   ]
  },
  {
   "cell_type": "code",
   "execution_count": 20,
   "id": "f5865f76-6a97-4cef-99aa-2fc9bc838e47",
   "metadata": {},
   "outputs": [
    {
     "name": "stdout",
     "output_type": "stream",
     "text": [
      "List of random integers: [2, 46, 56, 39, 62, 11, 7, 32, 91, 85]\n"
     ]
    }
   ],
   "source": [
    "#Create a list of random numbers.\n",
    "import random\n",
    "random_integers = [random.randint(1, 100) for _ in range(10)]\n",
    "print(\"List of random integers:\", random_integers)\n"
   ]
  },
  {
   "cell_type": "code",
   "execution_count": 22,
   "id": "3a504223-1da8-4787-a9e6-af4bc66f03a6",
   "metadata": {},
   "outputs": [
    {
     "name": "stdout",
     "output_type": "stream",
     "text": [
      "List without duplicates: [40, 10, 50, 20, 30]\n"
     ]
    }
   ],
   "source": [
    "# Remove duplicates from a list.\n",
    "my_list = [10, 20, 30, 20, 40, 10, 50, 30]\n",
    "unique_list = list(set(my_list))\n",
    "print(\"List without duplicates:\", unique_list)"
   ]
  },
  {
   "cell_type": "code",
   "execution_count": 41,
   "id": "41e90bc0-f686-4fab-85bb-08b79f0668e3",
   "metadata": {},
   "outputs": [
    {
     "name": "stdout",
     "output_type": "stream",
     "text": [
      "[3, 5]\n"
     ]
    }
   ],
   "source": [
    "#Find the common elements between two lists.\n",
    "a=[2,3,4,5]\n",
    "b=[3,5,7,9]\n",
    "def common(a,b): \n",
    "    c = [value for value in a if value in b] \n",
    "    return c\n",
    "d=common(a,b)\n",
    "print(d)\n"
   ]
  },
  {
   "cell_type": "code",
   "execution_count": 42,
   "id": "680e7362-062d-43a9-8fae-2d3b7d565323",
   "metadata": {},
   "outputs": [
    {
     "name": "stdout",
     "output_type": "stream",
     "text": [
      "Difference between lists: [20, 10]\n"
     ]
    }
   ],
   "source": [
    "#Find the difference between two lists.\n",
    "list1 = [10, 20, 30, 40, 50]\n",
    "list2 = [30, 40, 50, 60, 70]\n",
    "difference = list(set(list1).difference(list2))\n",
    "print(\"Difference between lists:\", difference)"
   ]
  },
  {
   "cell_type": "code",
   "execution_count": 43,
   "id": "8d3c88ff-7387-4f04-a215-2e73c210d856",
   "metadata": {},
   "outputs": [
    {
     "name": "stdout",
     "output_type": "stream",
     "text": [
      "Merged list: [10, 20, 30, 40, 50, 60]\n"
     ]
    }
   ],
   "source": [
    "#Merge two lists.\n",
    "list1 = [10, 20, 30]\n",
    "list2 = [40, 50, 60]\n",
    "merged_list = list1 + list2\n",
    "print(\"Merged list:\", merged_list)"
   ]
  },
  {
   "cell_type": "code",
   "execution_count": 44,
   "id": "1e789b60-a44c-414b-9ef1-6d96531cc60d",
   "metadata": {},
   "outputs": [
    {
     "name": "stdout",
     "output_type": "stream",
     "text": [
      "Multiplied list: [20, 40, 60, 80, 100]\n"
     ]
    }
   ],
   "source": [
    "#Multiply all elements in a list by 2.\n",
    "my_list = [10, 20, 30, 40, 50]\n",
    "multiplied_list = [x * 2 for x in my_list]\n",
    "print(\"Multiplied list:\", multiplied_list)\n"
   ]
  },
  {
   "cell_type": "code",
   "execution_count": 7,
   "id": "07b9b1a6-eb06-4756-beaa-6eeacfd2c9d5",
   "metadata": {},
   "outputs": [
    {
     "name": "stdout",
     "output_type": "stream",
     "text": [
      "[2, 4]\n"
     ]
    }
   ],
   "source": [
    "#Filter out all even numbers from a list.\n",
    "lis = [1, 2, 3, 4, 5]\n",
    " \n",
    "# Output list initialisation\n",
    "out = []\n",
    " \n",
    "for num in lis:\n",
    " \n",
    "    # checking condition\n",
    "    if num % 2 == 0:\n",
    "        out.append(num)\n",
    " \n",
    " \n",
    "    \n",
    "print(out)"
   ]
  },
  {
   "cell_type": "code",
   "execution_count": 8,
   "id": "5b82eeb3-1221-487d-82b0-570f78de5fb7",
   "metadata": {},
   "outputs": [
    {
     "name": "stdout",
     "output_type": "stream",
     "text": [
      "List of integers: [10, 20, 30, 40, 50]\n"
     ]
    }
   ],
   "source": [
    "#Convert a list of strings to a list of integers.\n",
    "string_list = [\"10\", \"20\", \"30\", \"40\", \"50\"]\n",
    "\n",
    "integer_list = [int(x) for x in string_list]\n",
    "\n",
    "print(\"List of integers:\", integer_list)"
   ]
  },
  {
   "cell_type": "code",
   "execution_count": 9,
   "id": "4713e5f4-9d5e-4bf6-a1bc-08cc0fdba4c5",
   "metadata": {},
   "outputs": [
    {
     "name": "stdout",
     "output_type": "stream",
     "text": [
      "List of strings: ['10', '20', '30', '40', '50']\n"
     ]
    }
   ],
   "source": [
    "#Convert a list of integers to a list of strings.\n",
    "integer_list = [10, 20, 30, 40, 50]\n",
    "string_list = [str(x) for x in integer_list]\n",
    "print(\"List of strings:\", string_list)\n"
   ]
  },
  {
   "cell_type": "code",
   "execution_count": 16,
   "id": "e5f97601-6c7b-4355-8ee1-5f9689acfa3f",
   "metadata": {},
   "outputs": [
    {
     "name": "stdout",
     "output_type": "stream",
     "text": [
      "First 10 Fibonacci numbers: [0, 1, 1, 2, 3, 5, 8, 13, 21, 34]\n"
     ]
    }
   ],
   "source": [
    "#Create a list of the first 10 Fibonacci numbers.\n",
    "def generate_fibonacci(n):\n",
    "    fibonacci_list = [0,1] \n",
    "\n",
    "    for i in range(2, 10):\n",
    "        next_fibonacci = fibonacci_list[i - 1] + fibonacci_list[i - 2]\n",
    "        fibonacci_list.append(next_fibonacci)\n",
    "\n",
    "    return fibonacci_list\n",
    "\n",
    "\n",
    "fibonacci_numbers = generate_fibonacci(2)\n",
    "print(\"First 10 Fibonacci numbers:\", fibonacci_numbers)\n"
   ]
  },
  {
   "cell_type": "code",
   "execution_count": 17,
   "id": "b9147b8e-9fb9-4923-aa66-7b0238216183",
   "metadata": {},
   "outputs": [
    {
     "name": "stdout",
     "output_type": "stream",
     "text": [
      "The list is sorted in ascending order.\n"
     ]
    }
   ],
   "source": [
    "#Check if a list is sorted.\n",
    "def is_sorted_ascending(lst):\n",
    "    for i in range(1, len(lst)):\n",
    "        if lst[i] < lst[i - 1]:\n",
    "            return False\n",
    "    return True\n",
    "\n",
    "# Example list\n",
    "ascending_list = [10, 20, 30, 40, 50]\n",
    "\n",
    "# Check if the list is sorted in ascending order\n",
    "if is_sorted_ascending(ascending_list):\n",
    "    print(\"The list is sorted in ascending order.\")\n",
    "else:\n",
    "    print(\"The list is not sorted in ascending order.\")\n"
   ]
  },
  {
   "cell_type": "code",
   "execution_count": 18,
   "id": "626f5462-8705-4419-8271-1eb32b7b68c5",
   "metadata": {},
   "outputs": [
    {
     "name": "stdout",
     "output_type": "stream",
     "text": [
      "Rotated list: [3, 4, 5, 6, 1, 2]\n"
     ]
    }
   ],
   "source": [
    "#Rotate a list to the left by `n` positions.\n",
    "def rotate_left(lst, n):\n",
    "    n = n % len(lst)  # Normalize n to handle cases where n is larger than the list length\n",
    "    # print(n)\n",
    "    rotated = lst[n:] + lst[:n]\n",
    "    return rotated\n",
    "\n",
    "# Example list\n",
    "my_list = [1, 2, 3, 4, 5, 6]\n",
    "\n",
    "# Number of positions to rotate by\n",
    "n = 2\n",
    "\n",
    "# Rotate the list to the left by n positions\n",
    "rotated_list = rotate_left(my_list, n)\n",
    "\n",
    "# Print the rotated list\n",
    "print(\"Rotated list:\", rotated_list)\n"
   ]
  },
  {
   "cell_type": "code",
   "execution_count": 19,
   "id": "34f79363-86c2-47f0-b5e2-9b72254b9626",
   "metadata": {},
   "outputs": [
    {
     "name": "stdout",
     "output_type": "stream",
     "text": [
      "Rotated list: [5, 6, 1, 2, 3, 4]\n"
     ]
    }
   ],
   "source": [
    "#Rotate a list to the right by `n` positions.\n",
    "def rotate_right(lst, n):\n",
    "    n = n % len(lst)  # Normalize n to handle cases where n is larger than the list length\n",
    "    # print(n)\n",
    "    rotated = lst[-n:] + lst[:-n]\n",
    "    return rotated\n",
    "\n",
    "# Example list\n",
    "my_list = [1, 2, 3, 4, 5, 6]\n",
    "\n",
    "# Number of positions to rotate by\n",
    "n = 2\n",
    "\n",
    "# Rotate the list to the right by n positions\n",
    "rotated_list = rotate_right(my_list, n)\n",
    "\n",
    "# Print the rotated list\n",
    "print(\"Rotated list:\", rotated_list)"
   ]
  },
  {
   "cell_type": "code",
   "execution_count": 20,
   "id": "a4dd8e77-6e1a-42ac-8ba5-8f1ba4546008",
   "metadata": {},
   "outputs": [
    {
     "name": "stdout",
     "output_type": "stream",
     "text": [
      "5 25\n",
      "5 29\n",
      "List of prime numbers up to 50: [2, 3, 5, 7, 11, 13, 17, 19, 23, 29]\n"
     ]
    }
   ],
   "source": [
    "#33. Create a list of prime numbers up to 50.\n",
    "def is_prime(num):\n",
    "    if num <= 1:\n",
    "        return False\n",
    "    if num <= 3:\n",
    "        return True\n",
    "    if num % 2 == 0 or num % 3 == 0:\n",
    "        return False\n",
    "    i = 5\n",
    "    while i * i <= num:\n",
    "      print(i,num)\n",
    "      if num % i == 0 or num % (i + 2) == 0:\n",
    "          return False\n",
    "      i += 6\n",
    "    return True\n",
    "prime_numbers = [num for num in range(2,30) if is_prime(num)]\n",
    "print(\"List of prime numbers up to 50:\", prime_numbers)"
   ]
  },
  {
   "cell_type": "code",
   "execution_count": 21,
   "id": "2b69e855-fe96-4e48-ae51-9c578ea83ce7",
   "metadata": {},
   "outputs": [
    {
     "name": "stdout",
     "output_type": "stream",
     "text": [
      "Second largest number: 25\n"
     ]
    }
   ],
   "source": [
    "#Find the second largest number in a list.\n",
    "\n",
    "my_list = [10, 5, 20, 15, 30, 25]\n",
    "sorted_list = sorted(set(my_list))\n",
    "if len(sorted_list) >= 2:\n",
    "    second_largest = sorted_list[-2]\n",
    "    print(\"Second largest number:\", second_largest)\n",
    "else:\n",
    "    print(\"The list does not contain enough elements.\")"
   ]
  },
  {
   "cell_type": "code",
   "execution_count": 22,
   "id": "2706fa93-28cd-49f9-b50b-edf4d848b154",
   "metadata": {},
   "outputs": [
    {
     "name": "stdout",
     "output_type": "stream",
     "text": [
      "Squared list: [4, 16, 36, 64, 100]\n"
     ]
    }
   ],
   "source": [
    "#Replace every element in a list with its square.\n",
    "my_list = [2, 4, 6, 8, 10]\n",
    "squared_list = [x ** 2 for x in my_list]\n",
    "print(\"Squared list:\", squared_list)\n"
   ]
  },
  {
   "cell_type": "code",
   "execution_count": 23,
   "id": "dfc0f7c3-34b4-4205-b47c-222081fa0140",
   "metadata": {},
   "outputs": [
    {
     "name": "stdout",
     "output_type": "stream",
     "text": [
      "Converted dictionary: {'apple': 0, 'banana': 1, 'cherry': 2, 'date': 3, 'elderberry': 4}\n"
     ]
    }
   ],
   "source": [
    "#Convert a list to a dictionary where list elements become keys and their indices become values.\n",
    "my_list = ['apple', 'banana', 'cherry', 'date', 'elderberry']\n",
    "my_dict = {element: index for index, element in enumerate(my_list)}\n",
    "print(\"Converted dictionary:\", my_dict)"
   ]
  },
  {
   "cell_type": "code",
   "execution_count": 24,
   "id": "e1dc5a6a-b54d-48d7-9188-44c2a68979aa",
   "metadata": {},
   "outputs": [
    {
     "name": "stdout",
     "output_type": "stream",
     "text": [
      "Shuffled list: [1, 3, 2, 8, 6, 4, 9, 7, 5, 10]\n"
     ]
    }
   ],
   "source": [
    "#Shuffle the elements of a list randomly.\n",
    "import random\n",
    "\n",
    "my_list = [1, 2, 3, 4, 5, 6, 7, 8, 9, 10]\n",
    "\n",
    "random.shuffle(my_list)\n",
    "\n",
    "print(\"Shuffled list:\", my_list)\n"
   ]
  },
  {
   "cell_type": "code",
   "execution_count": 25,
   "id": "b0f8d195-cef3-4fc7-bcc9-c12945571e2a",
   "metadata": {},
   "outputs": [
    {
     "name": "stdout",
     "output_type": "stream",
     "text": [
      "List of the first 10 factorial numbers: [1, 1, 2, 6, 24, 120, 720, 5040, 40320, 362880]\n"
     ]
    }
   ],
   "source": [
    "#Create a list of the first 10 factorial numbers.\n",
    "def factorial(n):\n",
    "    if n == 0 or n == 1:\n",
    "        return 1\n",
    "    else:\n",
    "        return n * factorial(n - 1)\n",
    "factorial_numbers = [factorial(i) for i in range(10)]\n",
    "\n",
    "print(\"List of the first 10 factorial numbers:\", factorial_numbers)"
   ]
  },
  {
   "cell_type": "code",
   "execution_count": 26,
   "id": "94c7f405-afda-4c57-9549-38080321e5ba",
   "metadata": {},
   "outputs": [
    {
     "name": "stdout",
     "output_type": "stream",
     "text": [
      "The lists have at least one common element.\n"
     ]
    }
   ],
   "source": [
    "#Check if two lists have at least one element in common.\n",
    "def has_common_element(list1, list2):\n",
    "    for item in list1:\n",
    "        if item in list2:\n",
    "            return True\n",
    "    return False\n",
    "\n",
    "# Example lists\n",
    "list1 = [1, 2, 3, 4, 5]\n",
    "list2 = [4, 5, 6, 7, 8]\n",
    "\n",
    "# Check if the two lists have at least one element in common\n",
    "if has_common_element(list1, list2):\n",
    "    print(\"The lists have at least one common element.\")\n",
    "else:\n",
    "    print(\"The lists do not have any common elements.\")"
   ]
  },
  {
   "cell_type": "code",
   "execution_count": 27,
   "id": "dec4b389-1a6d-4eb7-b985-a6d84655b994",
   "metadata": {},
   "outputs": [
    {
     "name": "stdout",
     "output_type": "stream",
     "text": [
      "Empty list: []\n"
     ]
    }
   ],
   "source": [
    "#Remove all elements from a list.\n",
    "\n",
    "my_list = [1, 2, 3, 4, 5]\n",
    "\n",
    "\n",
    "my_list.clear()\n",
    "\n",
    "print(\"Empty list:\", my_list)"
   ]
  },
  {
   "cell_type": "code",
   "execution_count": 1,
   "id": "3c29faa2-2f08-4fe3-be5c-3806ee45f356",
   "metadata": {},
   "outputs": [
    {
     "name": "stdout",
     "output_type": "stream",
     "text": [
      "List after replacing negative numbers with 0: [10, 0, 20, 0, 30, 0]\n"
     ]
    }
   ],
   "source": [
    "#Replace negative numbers in a list with 0.\n",
    "my_list = [10, -5, 20, -15, 30, -25]\n",
    "\n",
    "\n",
    "for i in range(len(my_list)):\n",
    "    if my_list[i] < 0:\n",
    "        my_list[i] = 0\n",
    "\n",
    "# Print the list after replacing negative numbers with 0\n",
    "print(\"List after replacing negative numbers with 0:\", my_list)\n"
   ]
  },
  {
   "cell_type": "code",
   "execution_count": 2,
   "id": "705c0c8f-3fed-4f73-abd4-7bf996d53ce4",
   "metadata": {},
   "outputs": [
    {
     "name": "stdout",
     "output_type": "stream",
     "text": [
      "List of words: ['Hello,', 'this', 'is', 'a', 'sample', 'sentence.']\n"
     ]
    }
   ],
   "source": [
    "#Convert a string into a list of words.\n",
    "my_string = \"Hello, this is a sample sentence.\"\n",
    "\n",
    "# Convert the string into a list of words\n",
    "word_list = my_string.split()\n",
    "\n",
    "# Print the list of words\n",
    "print(\"List of words:\", word_list)"
   ]
  },
  {
   "cell_type": "code",
   "execution_count": 3,
   "id": "3e302b60-7e59-48ff-9e45-4f15b89af016",
   "metadata": {},
   "outputs": [
    {
     "name": "stdout",
     "output_type": "stream",
     "text": [
      "Converted string: Hello, this is a sample sentence.\n"
     ]
    }
   ],
   "source": [
    "#Convert a list of words into a string.\n",
    "\n",
    "word_list = [\"Hello,\", \"this\", \"is\", \"a\", \"sample\", \"sentence.\"]\n",
    "\n",
    "# Convert the list of words into a string\n",
    "my_string = \" \".join(word_list)\n",
    "\n",
    "# Print the resulting string\n",
    "print(\"Converted string:\", my_string)\n"
   ]
  },
  {
   "cell_type": "code",
   "execution_count": 4,
   "id": "b294e7f5-2db6-4110-894b-07eed3ce987d",
   "metadata": {},
   "outputs": [
    {
     "name": "stdout",
     "output_type": "stream",
     "text": [
      "Longest string: elderberry\n"
     ]
    }
   ],
   "source": [
    "#Find the longest string in a list of strings.\n",
    "string_list = [\"apple\", \"banana\", \"cherry\", \"date\", \"elderberry\"]\n",
    "longest_string = \"\"\n",
    "for s in string_list:\n",
    "    if len(s) > len(longest_string):\n",
    "        longest_string = s\n",
    "\n",
    "# Print the longest string\n",
    "print(\"Longest string:\", longest_string)"
   ]
  },
  {
   "cell_type": "code",
   "execution_count": 5,
   "id": "200ba465-744d-407a-b1ec-a4e494ea5ab3",
   "metadata": {},
   "outputs": [
    {
     "name": "stdout",
     "output_type": "stream",
     "text": [
      "Shortest string: date\n"
     ]
    }
   ],
   "source": [
    "#Create a list of the first `n` triangular numbers.\n",
    "string_list = [\"apple\", \"banana\", \"cherry\", \"date\", \"elderberry\"]\n",
    "\n",
    "# Find the shortest string in the list\n",
    "shortest_string = string_list[0]  \n",
    "for s in string_list:\n",
    "    if len(s) < len(shortest_string):\n",
    "        shortest_string = s\n",
    "\n",
    "\n",
    "print(\"Shortest string:\", shortest_string)\n"
   ]
  },
  {
   "cell_type": "code",
   "execution_count": 6,
   "id": "1d12ea2a-89f5-46f4-adc5-3b9b41b5aea2",
   "metadata": {},
   "outputs": [
    {
     "name": "stdout",
     "output_type": "stream",
     "text": [
      "Main list contains the subsequence.\n"
     ]
    }
   ],
   "source": [
    "#Check if a list contains another list as a subsequence.\n",
    "def is_subsequence(subsequence, main_list):\n",
    "    subseq_index = 0  # Index for the subsequence elements\n",
    "    for element in main_list:\n",
    "        if element == subsequence[subseq_index]:\n",
    "            subseq_index += 1\n",
    "            if subseq_index == len(subsequence):\n",
    "                return True\n",
    "    return False\n",
    "\n",
    "# Example main list and subsequence\n",
    "main_list = [1, 2, 3, 4, 5, 6, 7, 8, 9, 10]\n",
    "subsequence = [3, 5, 8]\n",
    "\n",
    "# Check if the main list contains the subsequence\n",
    "if is_subsequence(subsequence, main_list):\n",
    "    print(\"Main list contains the subsequence.\")\n",
    "else:\n",
    "    print(\"Main list does not contain the subsequence.\")\n"
   ]
  },
  {
   "cell_type": "code",
   "execution_count": 8,
   "id": "29f7d2b2-56f7-4b39-8a3d-2ce780726f4c",
   "metadata": {},
   "outputs": [
    {
     "name": "stdout",
     "output_type": "stream",
     "text": [
      "List after swapping elements: [1, 4, 3, 2, 5]\n"
     ]
    }
   ],
   "source": [
    "#Swap two elements in a list by their indices.\n",
    "my_list = [1, 2, 3, 4, 5]\n",
    "\n",
    "\n",
    "index1 = 1\n",
    "index2 = 3\n",
    "\n",
    "\n",
    "temp = my_list[index1]\n",
    "my_list[index1] = my_list[index2]\n",
    "my_list[index2] = temp\n",
    "\n",
    "print(\"List after swapping elements:\", my_list)\n"
   ]
  },
  {
   "cell_type": "code",
   "execution_count": 3,
   "id": "156bdbdc-7cfe-44c4-99ea-a1df701ebdb6",
   "metadata": {},
   "outputs": [
    {
     "data": {
      "text/plain": [
       "'Tuple based questions'"
      ]
     },
     "execution_count": 3,
     "metadata": {},
     "output_type": "execute_result"
    }
   ],
   "source": [
    "'''Tuple based questions'''"
   ]
  },
  {
   "cell_type": "code",
   "execution_count": 2,
   "id": "b244d00c-3bfb-4422-8f18-5a0ecc585caa",
   "metadata": {},
   "outputs": [
    {
     "data": {
      "text/plain": [
       "(10, 20, 30, 40, 50)"
      ]
     },
     "execution_count": 2,
     "metadata": {},
     "output_type": "execute_result"
    }
   ],
   "source": [
    "#cREATE A TUPLE WITH INTEGERS FROM 1-\n",
    "my_tuple =(10,20,30,40,50)\n",
    "my_tuple\n"
   ]
  },
  {
   "cell_type": "code",
   "execution_count": 5,
   "id": "35548e88-a569-40fc-b393-02fc69e31ec2",
   "metadata": {},
   "outputs": [
    {
     "name": "stdout",
     "output_type": "stream",
     "text": [
      "the 3rd element of the tuple is : 30\n"
     ]
    }
   ],
   "source": [
    "#acess the third element of the tuple\n",
    "my_tuple =(10,20,30,40,50)\n",
    "third_element=my_tuple[2]\n",
    "print(\"the 3rd element of the tuple is :\",third_element)"
   ]
  },
  {
   "cell_type": "code",
   "execution_count": 8,
   "id": "edeade27-01ab-43ad-bc58-6889f635e17a",
   "metadata": {},
   "outputs": [
    {
     "name": "stdout",
     "output_type": "stream",
     "text": [
      "the no of element in the tuple is: 5\n"
     ]
    }
   ],
   "source": [
    "#find the length of a tuple without using len() function \n",
    "my_tuple =(10,20,30,40,50)\n",
    "count=0\n",
    "for _ in my_tuple:\n",
    "    count +=1\n",
    "    \n",
    "    \n",
    "print(\"the no of element in the tuple is:\",count)"
   ]
  },
  {
   "cell_type": "code",
   "execution_count": 9,
   "id": "91678b6e-9594-496a-918f-45009e7a0486",
   "metadata": {},
   "outputs": [
    {
     "name": "stdout",
     "output_type": "stream",
     "text": [
      "the number of occurence of 20 is 3\n"
     ]
    }
   ],
   "source": [
    "#count the number of occurence of a elemment in a tuple \n",
    "my_tuple =(10,20,30,40,20,20,50)\n",
    "element_to_count =20\n",
    "count=0\n",
    "for item in my_tuple:\n",
    "    if item == element_to_count:\n",
    "        count +=1\n",
    "        \n",
    "        \n",
    "print(\"the number of occurence of 20 is\",count)"
   ]
  },
  {
   "cell_type": "code",
   "execution_count": 11,
   "id": "893acc95-b1b5-4c58-86e9-9456aef4e4da",
   "metadata": {},
   "outputs": [
    {
     "name": "stdout",
     "output_type": "stream",
     "text": [
      "The first occurrence of 20 is at index 1.\n"
     ]
    }
   ],
   "source": [
    "#find the index of the first occurence of a element in the tuple \n",
    "my_tuple =(10,20,30,20,40,50)\n",
    "element_to_find = 20\n",
    "\n",
    "# Step 3: Initialize a variable to keep track of the index\n",
    "index = -1  # Initialize with -1 to indicate that the element was not found\n",
    "\n",
    "# Step 4: Iterate through the tuple and find the index of the chosen element\n",
    "for i, item in enumerate(my_tuple):\n",
    "    if item == element_to_find:\n",
    "        index = i\n",
    "        break  # Exit the loop once the first occurrence is found\n",
    "\n",
    "# Step 5: Print the index of the first occurrence\n",
    "if index != -1:\n",
    "    print(f\"The first occurrence of {element_to_find} is at index {index}.\")\n",
    "else:\n",
    "    print(f\"{element_to_find} is not found in the tuple.\")    "
   ]
  },
  {
   "cell_type": "code",
   "execution_count": 15,
   "id": "24388f2a-58d2-4bc2-89b2-491b943d7150",
   "metadata": {},
   "outputs": [
    {
     "name": "stdout",
     "output_type": "stream",
     "text": [
      "30 exists in tje tuple\n"
     ]
    }
   ],
   "source": [
    "#check if an element exist in a tuple\n",
    "my_tuple =(10,20,30,40,50)\n",
    "element_to_check =30\n",
    "if element_to_check in my_tuple:\n",
    "    print(f\"{element_to_check} exists in tje tuple\")\n",
    "else:\n",
    "    print(f\"{element_to_check} not exists in tje tuple\")"
   ]
  },
  {
   "cell_type": "code",
   "execution_count": 16,
   "id": "b709a65a-9b14-4b08-8dd1-2282ecfa6f9c",
   "metadata": {},
   "outputs": [
    {
     "name": "stdout",
     "output_type": "stream",
     "text": [
      "tuple: (10, 20, 30, 40, 50)\n",
      "list: [10, 20, 30, 40, 50]\n"
     ]
    }
   ],
   "source": [
    "#convert a tuple to a list\n",
    "my_tuple =(10,20,30,40,50)\n",
    "my_list = list(my_tuple)\n",
    "print(\"tuple:\",my_tuple)\n",
    "print(\"list:\",my_list)"
   ]
  },
  {
   "cell_type": "code",
   "execution_count": 17,
   "id": "6592bb53-d174-40d3-a7c0-505b9f014691",
   "metadata": {},
   "outputs": [
    {
     "name": "stdout",
     "output_type": "stream",
     "text": [
      "List: [10, 20, 30, 40, 50]\n",
      "Tuple: (10, 20, 30, 40, 50)\n"
     ]
    }
   ],
   "source": [
    "#convert a list to a tuple\n",
    "my_list = [10, 20, 30, 40, 50]\n",
    "\n",
    "# Step 2: Convert the list to a tuple\n",
    "my_tuple = tuple(my_list)\n",
    "\n",
    "# Step 3: Print the resulting tuple\n",
    "print(\"List:\", my_list)\n",
    "print(\"Tuple:\", my_tuple)\n"
   ]
  },
  {
   "cell_type": "code",
   "execution_count": 18,
   "id": "cd24c5b5-99e1-4a41-b2e7-095d50237b69",
   "metadata": {},
   "outputs": [
    {
     "name": "stdout",
     "output_type": "stream",
     "text": [
      "var1: 10\n",
      "var2: 20\n",
      "var3: 30\n"
     ]
    }
   ],
   "source": [
    "#unpack the element of tuple to a variable\n",
    "my_tuple = (10, 20, 30)\n",
    "\n",
    "# Step 2: Unpack the elements of the tuple into variables\n",
    "var1, var2, var3 = my_tuple\n",
    "\n",
    "# Step 3: Print the variables\n",
    "print(\"var1:\", var1)\n",
    "print(\"var2:\", var2)\n",
    "print(\"var3:\", var3)"
   ]
  },
  {
   "cell_type": "code",
   "execution_count": 19,
   "id": "f7e099b0-ee29-4659-88c5-d99bc167a5a1",
   "metadata": {},
   "outputs": [
    {
     "data": {
      "text/plain": [
       "(2, 4, 6, 8, 10)"
      ]
     },
     "execution_count": 19,
     "metadata": {},
     "output_type": "execute_result"
    }
   ],
   "source": [
    "#create a tuple of even number from 1-10\n",
    "even_number = [num for num in range(2,11,2)]\n",
    "even_number_tuple = tuple(even_number)\n",
    "even_number_tuple"
   ]
  },
  {
   "cell_type": "code",
   "execution_count": 20,
   "id": "bb7998e9-130c-418a-8203-cb8d8a0c5396",
   "metadata": {},
   "outputs": [
    {
     "data": {
      "text/plain": [
       "(1, 3, 5, 7, 9)"
      ]
     },
     "execution_count": 20,
     "metadata": {},
     "output_type": "execute_result"
    }
   ],
   "source": [
    "#create tuples for the odd numbers \n",
    "even_number = [num for num in range(1,11,2)]\n",
    "even_number_tuple = tuple(even_number)\n",
    "even_number_tuple"
   ]
  },
  {
   "cell_type": "code",
   "execution_count": 22,
   "id": "dddf1e84-738f-44f9-8419-f2d5fce98a33",
   "metadata": {},
   "outputs": [
    {
     "data": {
      "text/plain": [
       "(1, 2, 3, 4, 5, 6)"
      ]
     },
     "execution_count": 22,
     "metadata": {},
     "output_type": "execute_result"
    }
   ],
   "source": [
    "#concatenate 2 tuples\n",
    "tuple1 =(1,2,3)\n",
    "tuple2=(4,5,6)\n",
    "concatwnate_tuple=tuple1+tuple2\n",
    "concatwnate_tuple"
   ]
  },
  {
   "cell_type": "code",
   "execution_count": 23,
   "id": "9ab37467-722d-4720-be07-716acbce3e0d",
   "metadata": {},
   "outputs": [
    {
     "name": "stdout",
     "output_type": "stream",
     "text": [
      "Repeated tuple: (1, 2, 3, 1, 2, 3, 1, 2, 3)\n"
     ]
    }
   ],
   "source": [
    "#repeat a tuple 3 times \n",
    "original_tuple = (1, 2, 3)\n",
    "\n",
    "# Step 2: Repeat the tuple three times\n",
    "repeated_tuple = original_tuple * 3\n",
    "\n",
    "# Step 3: Print the repeated tuple\n",
    "print(\"Repeated tuple:\", repeated_tuple)\n"
   ]
  },
  {
   "cell_type": "code",
   "execution_count": 25,
   "id": "b68f3eba-21a3-47f9-9932-21af302f6350",
   "metadata": {},
   "outputs": [
    {
     "name": "stdout",
     "output_type": "stream",
     "text": [
      "The empty_tuple is empty.\n",
      "The non_empty_tuple is not empty.\n"
     ]
    }
   ],
   "source": [
    "#check if a tuple is empty\n",
    "empty_tuple = ()\n",
    "non_empty_tuple = (1, 2, 3)\n",
    "\n",
    "# Step 2: Check if the tuples are empty\n",
    "if not empty_tuple:\n",
    "    print(\"The empty_tuple is empty.\")\n",
    "else:\n",
    "    print(\"The empty_tuple is not empty.\")\n",
    "\n",
    "if not non_empty_tuple:\n",
    "    print(\"The non_empty_tuple is empty.\")\n",
    "else:\n",
    "    print(\"The non_empty_tuple is not empty.\")"
   ]
  },
  {
   "cell_type": "code",
   "execution_count": 27,
   "id": "01fa1ca0-dfab-4753-ac85-81d6f7211bfa",
   "metadata": {},
   "outputs": [
    {
     "data": {
      "text/plain": [
       "((1, 2, 3), ('a', 'b', 'c'), (True, False))"
      ]
     },
     "execution_count": 27,
     "metadata": {},
     "output_type": "execute_result"
    }
   ],
   "source": [
    "#create a nested tuple \n",
    "nested_tuple =((1,2,3),('a','b','c'),(True,False))\n",
    "nested_tuple"
   ]
  },
  {
   "cell_type": "code",
   "execution_count": 28,
   "id": "0d25a90c-4dd6-4e0c-87b6-69c6ee85e38b",
   "metadata": {},
   "outputs": [
    {
     "name": "stdout",
     "output_type": "stream",
     "text": [
      "the first element of the nested  tuple: (1, 2, 3)\n"
     ]
    }
   ],
   "source": [
    "#access the first element of a nested tuple\n",
    "nested_tuple =((1,2,3),('a','b','c'),(True,False))\n",
    "first_element=nested_tuple[0]\n",
    "print(\"the first element of the nested  tuple:\",first_element)"
   ]
  },
  {
   "cell_type": "code",
   "execution_count": 29,
   "id": "cf0a98b3-3416-4ab8-be32-8dcf0907411f",
   "metadata": {},
   "outputs": [
    {
     "name": "stdout",
     "output_type": "stream",
     "text": [
      "Single element tuple: (42,)\n"
     ]
    }
   ],
   "source": [
    "#Create a tuple with a single element\n",
    "single_element_tuple = (42,)  # Note the trailing comma\n",
    "\n",
    "# Step 2: Print the single element tuple\n",
    "print(\"Single element tuple:\", single_element_tuple)"
   ]
  },
  {
   "cell_type": "code",
   "execution_count": 30,
   "id": "4e5aa050-8c1b-4508-ac0d-14de721b9644",
   "metadata": {},
   "outputs": [
    {
     "name": "stdout",
     "output_type": "stream",
     "text": [
      "tuple1 == tuple2: False\n",
      "tuple1 != tuple2: True\n",
      "tuple1 < tuple2: True\n",
      "tuple1 <= tuple2: True\n",
      "tuple1 > tuple2: False\n",
      "tuple1 >= tuple2: False\n"
     ]
    }
   ],
   "source": [
    "#compare two tuples\n",
    "tuple1 = (1, 2, 3)\n",
    "tuple2 = (1, 2, 4)\n",
    "\n",
    "# Step 2: Compare the two tuples using comparison operators\n",
    "print(\"tuple1 == tuple2:\", tuple1 == tuple2)  # Equality check\n",
    "print(\"tuple1 != tuple2:\", tuple1 != tuple2)  # Inequality check\n",
    "print(\"tuple1 < tuple2:\", tuple1 < tuple2)    # Less than check\n",
    "print(\"tuple1 <= tuple2:\", tuple1 <= tuple2)  # Less than or equal to check\n",
    "print(\"tuple1 > tuple2:\", tuple1 > tuple2)    # Greater than check\n",
    "print(\"tuple1 >= tuple2:\", tuple1 >= tuple2) "
   ]
  },
  {
   "cell_type": "code",
   "execution_count": 1,
   "id": "da6adb28-e7c4-4add-a245-e7dda5eacc66",
   "metadata": {},
   "outputs": [
    {
     "name": "stdout",
     "output_type": "stream",
     "text": [
      "Sliced tuple: (3, 4, 5, 6)\n"
     ]
    }
   ],
   "source": [
    "#slice a tuple\n",
    "\n",
    "my_tuple = (1, 2, 3, 4, 5, 6, 7, 8, 9, 10)\n",
    "\n",
    "\n",
    "sliced_tuple = my_tuple[2:6]  \n",
    "\n",
    "#\n",
    "print(\"Sliced tuple:\", sliced_tuple)"
   ]
  },
  {
   "cell_type": "code",
   "execution_count": 2,
   "id": "b6a37eca-7e9a-4fdd-a80b-caa3e00b10e6",
   "metadata": {},
   "outputs": [
    {
     "name": "stdout",
     "output_type": "stream",
     "text": [
      "the max value is 45\n"
     ]
    }
   ],
   "source": [
    "#find the maximum value in a tuple \n",
    "my_tuple =( 10,20,30,5,45)\n",
    "max_value = max(my_tuple)\n",
    "print(\"the max value is\",max_value)"
   ]
  },
  {
   "cell_type": "code",
   "execution_count": 3,
   "id": "1767c663-c4d4-47b0-8085-efd2e8420cfa",
   "metadata": {},
   "outputs": [
    {
     "name": "stdout",
     "output_type": "stream",
     "text": [
      "Minimum value: 5\n"
     ]
    }
   ],
   "source": [
    "#find min value in a tuple \n",
    "my_tuple = (10, 20, 5, 45, 30)\n",
    "\n",
    "\n",
    "min_value = min(my_tuple)\n",
    "\n",
    "\n",
    "print(\"Minimum value:\", min_value)"
   ]
  },
  {
   "cell_type": "code",
   "execution_count": 6,
   "id": "d5a4f7af-00dc-4865-b69a-397eba4c1adf",
   "metadata": {},
   "outputs": [
    {
     "name": "stdout",
     "output_type": "stream",
     "text": [
      "tuple of charecters: ('h', 'e', 'l', 'l', 'o', ',', 'w', 'o', 'r', 'l', 'd')\n"
     ]
    }
   ],
   "source": [
    "#convert a string to a tuple of charecters \n",
    "my_string = \"hello,world\"\n",
    "tuple_of_charecters = tuple(my_string)\n",
    "print(\"tuple of charecters:\", tuple_of_charecters) "
   ]
  },
  {
   "cell_type": "code",
   "execution_count": 8,
   "id": "7ad3b40a-9251-4131-b365-e808ec8d3658",
   "metadata": {},
   "outputs": [
    {
     "name": "stdout",
     "output_type": "stream",
     "text": [
      "string from tuple: Hello\n"
     ]
    }
   ],
   "source": [
    "#convert a tuple of charecters to string\n",
    "tuple_of_charecters = ('H','e','l','l','o')\n",
    "string_from_tuple=''.join(tuple_of_charecters)\n",
    "print(\"string from tuple:\",string_from_tuple)"
   ]
  },
  {
   "cell_type": "code",
   "execution_count": 10,
   "id": "70015cc1-476c-4f8a-bcb9-6f59f300287a",
   "metadata": {},
   "outputs": [
    {
     "name": "stdout",
     "output_type": "stream",
     "text": [
      "(1, 'hello', 3.14, True)\n"
     ]
    }
   ],
   "source": [
    "#create a tuple from multiple datatypes \n",
    "mixed_tuple = (1,\"hello\",3.14,True)\n",
    "print(mixed_tuple)"
   ]
  },
  {
   "cell_type": "code",
   "execution_count": 13,
   "id": "41c47679-80b4-4771-8063-5ddee6646f39",
   "metadata": {},
   "outputs": [
    {
     "name": "stdout",
     "output_type": "stream",
     "text": [
      "True\n",
      "False\n"
     ]
    }
   ],
   "source": [
    "#check if two strings are identical\n",
    "tuple1 = (1,2,3)\n",
    "tuple2 = (1,2,3)\n",
    "tuple3 = (7,8,9)\n",
    "are_identical1 = tuple1 == tuple2\n",
    "are_identical2 = tuple2 ==tuple3\n",
    "print(are_identical1)\n",
    "print(are_identical2)"
   ]
  },
  {
   "cell_type": "code",
   "execution_count": 15,
   "id": "78ee9c6e-be77-4b0d-824d-1cd5a2574b79",
   "metadata": {},
   "outputs": [
    {
     "data": {
      "text/plain": [
       "(1, 2, 3, 5, 8)"
      ]
     },
     "execution_count": 15,
     "metadata": {},
     "output_type": "execute_result"
    }
   ],
   "source": [
    "#sort the element of a tuple.\n",
    "my_tuple = (5,2,8,1,3)\n",
    "a=tuple(sorted(my_tuple))\n",
    "a\n"
   ]
  },
  {
   "cell_type": "code",
   "execution_count": 18,
   "id": "f911d57a-28ad-4cb4-bd4e-225243e61a5b",
   "metadata": {},
   "outputs": [
    {
     "name": "stdout",
     "output_type": "stream",
     "text": [
      "thr tuple of strings is ('1', '2', '3', '4', '5')\n"
     ]
    }
   ],
   "source": [
    "#convert a tuple of integers to a tuple of strings \n",
    "tuple_of_integers = (1,2,3,4,5)\n",
    "tuple_of_string =tuple(str(item)for item in tuple_of_integers)\n",
    "print(\"thr tuple of strings is\", tuple_of_string)"
   ]
  },
  {
   "cell_type": "code",
   "execution_count": 19,
   "id": "d2c33d06-aeaf-4fb9-af08-b6b14c49ffa8",
   "metadata": {},
   "outputs": [
    {
     "data": {
      "text/plain": [
       "(1, 2, 3, 4, 5)"
      ]
     },
     "execution_count": 19,
     "metadata": {},
     "output_type": "execute_result"
    }
   ],
   "source": [
    "#convert a tuple of  strings to a tuple of integers\n",
    "tuple_of_string =('1','2','3','4','5')\n",
    "tuple_of_integer= tuple(int(item) for item in tuple_of_string)\n",
    "tuple_of_integers"
   ]
  },
  {
   "cell_type": "code",
   "execution_count": 1,
   "id": "b14dc346-2a87-47fa-bb22-29cd7102dcb6",
   "metadata": {},
   "outputs": [
    {
     "name": "stdout",
     "output_type": "stream",
     "text": [
      "Merged tuple: (1, 2, 3, 4, 5, 6)\n"
     ]
    }
   ],
   "source": [
    "#merge 2 tuples\n",
    "tuple1 = (1, 2, 3)\n",
    "tuple2 = (4, 5, 6)\n",
    "\n",
    "# Step 2: Merge the two tuples using the '+' operator\n",
    "merged_tuple = tuple1 + tuple2\n",
    "\n",
    "# Step 3: Print the merged tuple\n",
    "print(\"Merged tuple:\", merged_tuple)"
   ]
  },
  {
   "cell_type": "code",
   "execution_count": 2,
   "id": "74517c37-8238-40bf-8927-4fee1c2cab1f",
   "metadata": {},
   "outputs": [
    {
     "name": "stdout",
     "output_type": "stream",
     "text": [
      "Flattened tuple: (1, 2, 3, 4, 5, 6, 7, 8)\n"
     ]
    }
   ],
   "source": [
    "#flatten a neste tuple\n",
    "def flatten_tuple(nested_tuple):\n",
    "    flattened = []\n",
    "    for item in nested_tuple:\n",
    "        if isinstance(item, tuple):\n",
    "            flattened.extend(flatten_tuple(item))\n",
    "        else:\n",
    "            flattened.append(item)\n",
    "    return flattened\n",
    "\n",
    "# Step 1: Create a nested tuple\n",
    "nested_tuple = ((1, 2), (3, 4, 5), (6, (7, 8)))\n",
    "\n",
    "# Step 2: Flatten the nested tuple\n",
    "flattened_tuple = tuple(flatten_tuple(nested_tuple))\n",
    "\n",
    "# Step 3: Print the flattened tuple\n",
    "print(\"Flattened tuple:\", flattened_tuple)"
   ]
  },
  {
   "cell_type": "code",
   "execution_count": 3,
   "id": "d3ebfffb-8d97-42af-a5fe-7ff3f4df4577",
   "metadata": {},
   "outputs": [
    {
     "name": "stdout",
     "output_type": "stream",
     "text": [
      "Tuple of the first 5 prime numbers: (2, 3, 5, 7, 11)\n"
     ]
    }
   ],
   "source": [
    "#create a tuple of the first 5 prime numbers\n",
    "def is_prime(num):\n",
    "    if num <= 1:\n",
    "        return False\n",
    "    for i in range(2, int(num ** 0.5) + 1):\n",
    "        if num % i == 0:\n",
    "            return False\n",
    "    return True\n",
    "\n",
    "# Generate the first 5 prime numbers\n",
    "prime_numbers_list = [num for num in range(2, 100) if is_prime(num)][:5]\n",
    "\n",
    "# Convert the list to a tuple\n",
    "prime_numbers_tuple = tuple(prime_numbers_list)\n",
    "\n",
    "# Print the tuple of prime numbers\n",
    "print(\"Tuple of the first 5 prime numbers:\", prime_numbers_tuple)"
   ]
  },
  {
   "cell_type": "code",
   "execution_count": 5,
   "id": "b9442c96-eae9-481d-8533-658632b53de4",
   "metadata": {},
   "outputs": [
    {
     "name": "stdout",
     "output_type": "stream",
     "text": [
      "palindrome_tuple is a palindrome: True\n",
      "non_palindrome_tuple is a palindrome: False\n"
     ]
    }
   ],
   "source": [
    "#check if a tuple is palindrome\n",
    "def is_palindrome(tup):\n",
    "    return tup == tup[::-1]\n",
    "\n",
    "\n",
    "palindrome_tuple = (1, 2, 3, 2, 1)\n",
    "non_palindrome_tuple = (1, 2, 3, 4, 5)\n",
    "\n",
    "\n",
    "is_palindrome1 = is_palindrome(palindrome_tuple)\n",
    "is_palindrome2 = is_palindrome(non_palindrome_tuple)\n",
    "\n",
    "print(\"palindrome_tuple is a palindrome:\", is_palindrome1)\n",
    "print(\"non_palindrome_tuple is a palindrome:\", is_palindrome2)"
   ]
  },
  {
   "cell_type": "code",
   "execution_count": 6,
   "id": "1ce52a29-5c68-43d2-9117-bf92d3888df1",
   "metadata": {},
   "outputs": [
    {
     "name": "stdout",
     "output_type": "stream",
     "text": [
      "Tuple of squares: (1, 4, 9, 16, 25)\n"
     ]
    }
   ],
   "source": [
    "#creatwe a tuple of squares \n",
    "squares_tuple = tuple(x ** 2 for x in range(1, 6))\n",
    "\n",
    "\n",
    "print(\"Tuple of squares:\", squares_tuple)"
   ]
  },
  {
   "cell_type": "code",
   "execution_count": 7,
   "id": "8e4e55bd-b634-45db-be8a-f0015a2e912e",
   "metadata": {},
   "outputs": [
    {
     "name": "stdout",
     "output_type": "stream",
     "text": [
      "Doubled tuple: (2, 4, 6, 8, 10)\n"
     ]
    }
   ],
   "source": [
    "#multiply all elements of tuple by 2 \n",
    "original_tuple = (1, 2, 3, 4, 5)\n",
    "\n",
    "doubled_tuple = tuple(num * 2 for num in original_tuple)\n",
    "print(\"Doubled tuple:\", doubled_tuple)"
   ]
  },
  {
   "cell_type": "code",
   "execution_count": 8,
   "id": "3ff61fd8-ffa5-4aa8-b5a4-2461cc1749f9",
   "metadata": {},
   "outputs": [
    {
     "name": "stdout",
     "output_type": "stream",
     "text": [
      "Random tuple: (53, 92, 81, 26, 23, 78, 11, 53, 48, 26)\n"
     ]
    }
   ],
   "source": [
    "#create a tuple of random numbers\n",
    "import random\n",
    "\n",
    "random_tuple = tuple(random.randint(1, 100) for _ in range(10))  \n",
    "\n",
    "print(\"Random tuple:\", random_tuple)"
   ]
  },
  {
   "cell_type": "code",
   "execution_count": 10,
   "id": "b30056f9-cdb3-462a-b8ca-8801b1b13e29",
   "metadata": {},
   "outputs": [
    {
     "name": "stdout",
     "output_type": "stream",
     "text": [
      "sorted_tuple is sorted: True\n",
      "unsorted_tuple is sorted: False\n"
     ]
    }
   ],
   "source": [
    "#check if tuple is sorted\n",
    "def is_sorted(tup):\n",
    "    for i in range(len(tup) - 1):\n",
    "        if tup[i] > tup[i + 1]:\n",
    "            return False\n",
    "    return True\n",
    "\n",
    "\n",
    "sorted_tuple = (1, 2, 3, 4, 5)\n",
    "unsorted_tuple = (5, 3, 1, 4, 2)\n",
    "\n",
    "\n",
    "is_sorted1 = is_sorted(sorted_tuple)\n",
    "is_sorted2 = is_sorted(unsorted_tuple)\n",
    "\n",
    "print(\"sorted_tuple is sorted:\", is_sorted1)\n",
    "print(\"unsorted_tuple is sorted:\", is_sorted2)"
   ]
  },
  {
   "cell_type": "code",
   "execution_count": 2,
   "id": "129b7e82-0e82-4cd7-8a86-f281385944c4",
   "metadata": {},
   "outputs": [
    {
     "name": "stdout",
     "output_type": "stream",
     "text": [
      "(3, 4, 5, 1, 2)\n"
     ]
    }
   ],
   "source": [
    "#rotate tuple by nth positions \n",
    "def rotate_tuple_left(tup, n):\n",
    "    n = n % len(tup) \n",
    "    rotated_tuple = tup[n:] + tup[:n]  \n",
    "    return rotated_tuple\n",
    "my_tuple = (1, 2, 3, 4, 5)\n",
    "n_positions = 2\n",
    "result = rotate_tuple_left(my_tuple, n_positions)\n",
    "print(result)"
   ]
  },
  {
   "cell_type": "code",
   "execution_count": 3,
   "id": "593ae79a-13f1-4a79-bc08-fdb551f23059",
   "metadata": {},
   "outputs": [
    {
     "name": "stdout",
     "output_type": "stream",
     "text": [
      "(0, 1, 1, 2, 3)\n"
     ]
    }
   ],
   "source": [
    "#Create A TUPLE OF THE FIRST 5 FIBONACCI NUMBERS\n",
    "def generate_fibonacci(n):\n",
    "    fibonacci = [0, 1]  \n",
    "    while len(fibonacci) < n:  \n",
    "        next_number = fibonacci[-1] + fibonacci[-2]  \n",
    "        fibonacci.append(next_number)\n",
    "    return tuple(fibonacci) \n",
    "\n",
    "\n",
    "fibonacci_tuple = generate_fibonacci(5)\n",
    "\n",
    "\n",
    "print(fibonacci_tuple)"
   ]
  },
  {
   "cell_type": "code",
   "execution_count": 4,
   "id": "651d6802-4fbe-4930-a9b5-809c1ac8c2ae",
   "metadata": {},
   "outputs": [
    {
     "name": "stdin",
     "output_type": "stream",
     "text": [
      "enter element separated by commas: 11,34,55,66,77\n"
     ]
    },
    {
     "data": {
      "text/plain": [
       "('11', '34', '55', '66', '77')"
      ]
     },
     "execution_count": 4,
     "metadata": {},
     "output_type": "execute_result"
    }
   ],
   "source": [
    "#CREATE A TUPLE OF USER INPUT\n",
    "input_str = input(\"enter element separated by commas:\")\n",
    "input_list=input_str.split(',')\n",
    "user_tuple = tuple(input_list)\n",
    "user_tuple"
   ]
  },
  {
   "cell_type": "code",
   "execution_count": 5,
   "id": "fccaa44f-fae3-4d5b-bd51-2222240fbcaf",
   "metadata": {},
   "outputs": [
    {
     "name": "stdout",
     "output_type": "stream",
     "text": [
      "Reversed tuple: (5, 4, 3, 2, 1)\n"
     ]
    }
   ],
   "source": [
    "#reverse a element pf a tuple\n",
    "my_tuple = (1, 2, 3, 4, 5)\n",
    "\n",
    "# Reverse the elements using slicing\n",
    "reversed_tuple = my_tuple[::-1]\n",
    "\n",
    "# Print the reversed tuple\n",
    "print(\"Reversed tuple:\", reversed_tuple)"
   ]
  },
  {
   "cell_type": "code",
   "execution_count": 6,
   "id": "a2ed01cc-7489-4458-894e-dc3cad359fa7",
   "metadata": {},
   "outputs": [
    {
     "name": "stdout",
     "output_type": "stream",
     "text": [
      "Tuple of the first 5 powers of 2: (1, 2, 4, 8, 16)\n"
     ]
    }
   ],
   "source": [
    "#create a tuple of the first n powers of 2 \n",
    "n = 5\n",
    "\n",
    "powers_of_2_tuple = tuple(2 ** i for i in range(n))\n",
    "\n",
    "print(\"Tuple of the first\", n, \"powers of 2:\", powers_of_2_tuple)"
   ]
  },
  {
   "cell_type": "code",
   "execution_count": 7,
   "id": "eaba2b02-064c-4401-88d7-bdf6db152afb",
   "metadata": {},
   "outputs": [
    {
     "name": "stdout",
     "output_type": "stream",
     "text": [
      "Shortest string: kiwi\n"
     ]
    }
   ],
   "source": [
    "#find the shprtest string thr tuplr \n",
    "string_tuple = (\"apple\", \"banana\", \"grape\", \"kiwi\", \"watermelon\")\n",
    "\n",
    "shortest_string = min(string_tuple, key=len)\n",
    "\n",
    "print(\"Shortest string:\", shortest_string)"
   ]
  },
  {
   "cell_type": "code",
   "execution_count": 8,
   "id": "0932540e-d1ce-4d09-b942-6f57657b7fac",
   "metadata": {},
   "outputs": [
    {
     "name": "stdout",
     "output_type": "stream",
     "text": [
      "Tuple of the first 5 triangular numbers: (1, 3, 6, 10, 15)\n"
     ]
    }
   ],
   "source": [
    "#create a tuple of the first n triangular numbers.\n",
    "\n",
    "n = 5\n",
    "\n",
    "triangular_numbers_tuple = tuple((i * (i + 1)) // 2 for i in range(1, n + 1))\n",
    "\n",
    "print(\"Tuple of the first\", n, \"triangular numbers:\", triangular_numbers_tuple)"
   ]
  },
  {
   "cell_type": "code",
   "execution_count": 9,
   "id": "f12dd23a-f86e-4080-9ddc-dcb047820842",
   "metadata": {},
   "outputs": [
    {
     "name": "stdout",
     "output_type": "stream",
     "text": [
      "Main tuple contains subsequence tuple: True\n"
     ]
    }
   ],
   "source": [
    "#check if a tuple contains another tuple as a subsequence \n",
    "def contains_subsequence(main_tuple, sub_tuple):\n",
    "    sub_length = len(sub_tuple)\n",
    "    for i in range(len(main_tuple) - sub_length + 1):\n",
    "        if main_tuple[i:i+sub_length] == sub_tuple:\n",
    "            return True\n",
    "    return False\n",
    "\n",
    "main_tuple = (1, 2, 3, 4, 5, 6, 7, 8, 9)\n",
    "\n",
    "sub_tuple = (3, 4, 5)\n",
    "\n",
    "contains_subseq = contains_subsequence(main_tuple, sub_tuple)\n",
    "\n",
    "print(\"Main tuple contains subsequence tuple:\", contains_subseq)"
   ]
  },
  {
   "cell_type": "code",
   "execution_count": 10,
   "id": "027c0d40-57f0-45bf-a626-33d18760400f",
   "metadata": {},
   "outputs": [
    {
     "name": "stdout",
     "output_type": "stream",
     "text": [
      "Tuple of alternating 1s and 0s: (0, 1, 0, 1, 0, 1, 0, 1, 0, 1)\n"
     ]
    }
   ],
   "source": [
    "#create a tuple of alternating 1s and 0s of length n\n",
    "n = 10\n",
    "\n",
    "alternating_tuple = tuple(i % 2 for i in range(n))\n",
    "\n",
    "print(\"Tuple of alternating 1s and 0s:\", alternating_tuple)"
   ]
  },
  {
   "cell_type": "code",
   "execution_count": 12,
   "id": "bb5a73d8-cffd-4389-b128-eefa9f353a3c",
   "metadata": {},
   "outputs": [
    {
     "data": {
      "text/plain": [
       "'SET BASED PROBLEMS :'"
      ]
     },
     "execution_count": 12,
     "metadata": {},
     "output_type": "execute_result"
    }
   ],
   "source": [
    "'''SET BASED PROBLEMS :'''"
   ]
  },
  {
   "cell_type": "code",
   "execution_count": 13,
   "id": "46e768cb-eb63-435c-9ed3-5bb0bf870f3b",
   "metadata": {},
   "outputs": [
    {
     "name": "stdout",
     "output_type": "stream",
     "text": [
      "{1, 2, 3, 4, 5}\n"
     ]
    }
   ],
   "source": [
    "my_set = set()\n",
    "\n",
    "my_set.add(1)\n",
    "my_set.add(2)\n",
    "my_set.add(3)\n",
    "my_set.add(4)\n",
    "my_set.add(5)\n",
    "\n",
    "print(my_set)"
   ]
  },
  {
   "cell_type": "code",
   "execution_count": 14,
   "id": "ed81762b-9d7b-4a9b-9148-0e0482a24c75",
   "metadata": {},
   "outputs": [
    {
     "name": "stdout",
     "output_type": "stream",
     "text": [
      "Original set: {1, 2, 3, 4, 5}\n",
      "Set after adding element: {1, 2, 3, 4, 5, 6}\n"
     ]
    }
   ],
   "source": [
    "#add a element to a set \n",
    "my_set = {1, 2, 3, 4, 5}\n",
    "\n",
    "\n",
    "print(\"Original set:\", my_set)\n",
    "\n",
    "\n",
    "element_to_add = 6\n",
    "my_set.add(element_to_add)\n",
    "\n",
    "print(\"Set after adding element:\", my_set)"
   ]
  },
  {
   "cell_type": "code",
   "execution_count": 15,
   "id": "32b8e902-ee06-482d-9c9a-4219b43500df",
   "metadata": {},
   "outputs": [
    {
     "name": "stdout",
     "output_type": "stream",
     "text": [
      "Original Set: {1, 2, 3, 4, 5}\n",
      "Set after removing 3 : {1, 2, 4, 5}\n"
     ]
    }
   ],
   "source": [
    "#remove an element from a set \n",
    "my_set = {1, 2, 3, 4, 5}\n",
    "\n",
    "\n",
    "print(\"Original Set:\", my_set)\n",
    "\n",
    "\n",
    "element_to_remove = 3\n",
    "\n",
    "my_set.remove(element_to_remove)\n",
    "\n",
    "print(\"Set after removing\", element_to_remove, \":\", my_set)"
   ]
  },
  {
   "cell_type": "code",
   "execution_count": 16,
   "id": "3de25a34-c041-45a9-809c-3242df949c06",
   "metadata": {},
   "outputs": [
    {
     "name": "stdin",
     "output_type": "stream",
     "text": [
      "Enter the element to check:  5\n"
     ]
    },
    {
     "name": "stdout",
     "output_type": "stream",
     "text": [
      "5 exists in the set.\n"
     ]
    }
   ],
   "source": [
    "#check if an element exists in a set \n",
    "my_set = {1, 3, 5, 7, 9}\n",
    "\n",
    "element_to_check = int(input(\"Enter the element to check: \"))\n",
    "\n",
    "if element_to_check in my_set:\n",
    "\n",
    "    print(f\"{element_to_check} exists in the set.\")\n",
    "else:\n",
    "\n",
    "    print(f\"{element_to_check} does not exist in the set.\")"
   ]
  },
  {
   "cell_type": "code",
   "execution_count": 17,
   "id": "2a7fce68-c9cf-4707-8b51-f39f6af303d4",
   "metadata": {},
   "outputs": [
    {
     "name": "stdout",
     "output_type": "stream",
     "text": [
      "Original set: {1, 2, 3, 4, 5}\n",
      "Set after clearing: set()\n"
     ]
    }
   ],
   "source": [
    "#clear all elements from a set \n",
    "my_set = {1, 2, 3, 4, 5}\n",
    "\n",
    "\n",
    "print(\"Original set:\", my_set)\n",
    "\n",
    "my_set.clear()\n",
    "\n",
    "print(\"Set after clearing:\", my_set)\n",
    "\n"
   ]
  },
  {
   "cell_type": "code",
   "execution_count": 18,
   "id": "5d267df1-9ee0-494d-97d2-5252df317d98",
   "metadata": {},
   "outputs": [
    {
     "name": "stdout",
     "output_type": "stream",
     "text": [
      "{2, 4, 6, 8, 10}\n"
     ]
    }
   ],
   "source": [
    "#create a set of even number from 1 to 10 \n",
    "even_numbers_set = set()\n",
    "\n",
    "for num in range(1, 11):\n",
    "\n",
    "    if num % 2 == 0:\n",
    "    \n",
    "        even_numbers_set.add(num)\n",
    "\n",
    "print(even_numbers_set)"
   ]
  },
  {
   "cell_type": "code",
   "execution_count": 19,
   "id": "4dcee539-ce41-4592-b194-6a3a319a98f8",
   "metadata": {},
   "outputs": [
    {
     "name": "stdout",
     "output_type": "stream",
     "text": [
      "Set 1: {1, 2, 3, 4, 5}\n",
      "Set 2: {4, 5, 6, 7, 8}\n",
      "Union of Set 1 and Set 2: {1, 2, 3, 4, 5, 6, 7, 8}\n"
     ]
    }
   ],
   "source": [
    "#find the unions of two sets \n",
    "set1 = {1, 2, 3, 4, 5}\n",
    "set2 = {4, 5, 6, 7, 8}\n",
    "\n",
    "union_result = set1.union(set2)\n",
    "\n",
    "print(\"Set 1:\", set1)\n",
    "print(\"Set 2:\", set2)\n",
    "print(\"Union of Set 1 and Set 2:\", union_result)"
   ]
  },
  {
   "cell_type": "code",
   "execution_count": 20,
   "id": "f0f2d321-4277-4235-8614-714cfaa4956e",
   "metadata": {},
   "outputs": [
    {
     "name": "stdout",
     "output_type": "stream",
     "text": [
      "Set 1: {1, 2, 3, 4, 5}\n",
      "Set 2: {3, 4, 5, 6, 7}\n",
      "Intersection: {3, 4, 5}\n"
     ]
    }
   ],
   "source": [
    "#find the intersection of two sets \n",
    "set1 = {1, 2, 3, 4, 5}\n",
    "set2 = {3, 4, 5, 6, 7}\n",
    "\n",
    "intersection_result = set1.intersection(set2)\n",
    "\n",
    "print(\"Set 1:\", set1)\n",
    "print(\"Set 2:\", set2)\n",
    "print(\"Intersection:\", intersection_result)"
   ]
  },
  {
   "cell_type": "code",
   "execution_count": 21,
   "id": "de31f186-9a1e-4754-95a8-4208e746484a",
   "metadata": {},
   "outputs": [
    {
     "name": "stdout",
     "output_type": "stream",
     "text": [
      "Set 1: {1, 2, 3, 4, 5}\n",
      "Set 2: {3, 4, 5, 6, 7}\n",
      "Difference: {1, 2}\n"
     ]
    }
   ],
   "source": [
    "#find the difference between two sets\n",
    "set1 = {1, 2, 3, 4, 5}\n",
    "set2 = {3, 4, 5, 6, 7}\n",
    "\n",
    "\n",
    "difference_set = set1.difference(set2)\n",
    "\n",
    "print(\"Set 1:\", set1)\n",
    "print(\"Set 2:\", set2)\n",
    "print(\"Difference:\", difference_set)"
   ]
  },
  {
   "cell_type": "code",
   "execution_count": 22,
   "id": "5809ef47-da87-4353-aec5-04843c427bd2",
   "metadata": {},
   "outputs": [
    {
     "name": "stdout",
     "output_type": "stream",
     "text": [
      "Is set1 a subset of set2: True\n"
     ]
    }
   ],
   "source": [
    "#check if a set is a subset of another set \n",
    "set1 = {1, 2, 3}\n",
    "set2 = {1, 2, 3, 4, 5}\n",
    "\n",
    "is_subset = set1.issubset(set2)\n",
    "\n",
    "# Print the result\n",
    "print(\"Is set1 a subset of set2:\", is_subset)"
   ]
  },
  {
   "cell_type": "code",
   "execution_count": 23,
   "id": "641ff764-7f85-4326-982a-005509672949",
   "metadata": {},
   "outputs": [
    {
     "name": "stdout",
     "output_type": "stream",
     "text": [
      "set1 is a superset of set2\n"
     ]
    }
   ],
   "source": [
    "#check if a set is a superset of another set\n",
    "set1 = {1, 2, 3, 4, 5, 6}\n",
    "set2 = {3, 4}\n",
    "\n",
    "\n",
    "is_superset = set1.issuperset(set2)\n",
    "\n",
    "if is_superset:\n",
    "    print(\"set1 is a superset of set2\")\n",
    "else:\n",
    "    print(\"set1 is not a superset of set2\")"
   ]
  },
  {
   "cell_type": "code",
   "execution_count": 1,
   "id": "ee89b6b7-f3f4-41b2-901c-de6cf9648204",
   "metadata": {},
   "outputs": [
    {
     "name": "stdout",
     "output_type": "stream",
     "text": [
      "Original List: [2, 4, 1, 4, 3, 2, 5]\n",
      "Set from List: {1, 2, 3, 4, 5}\n"
     ]
    }
   ],
   "source": [
    "#Create a set from a list \n",
    "my_list = [2, 4, 1, 4, 3, 2, 5]\n",
    "\n",
    "my_set = set(my_list)\n",
    "\n",
    "print(\"Original List:\", my_list)\n",
    "print(\"Set from List:\", my_set)"
   ]
  },
  {
   "cell_type": "code",
   "execution_count": 3,
   "id": "f2cf7d75-40e5-4291-af28-a96fa66125af",
   "metadata": {},
   "outputs": [
    {
     "name": "stdout",
     "output_type": "stream",
     "text": [
      "Original Set: {1, 2, 3, 4, 5, 6, 9}\n",
      "Converted List: [1, 2, 3, 4, 5, 6, 9]\n"
     ]
    }
   ],
   "source": [
    "#convert a set to a list \n",
    "my_set = {3, 1, 4, 1, 5, 9, 2, 6, 5}\n",
    "\n",
    "my_list = list(my_set)\n",
    "\n",
    "print(\"Original Set:\", my_set)\n",
    "print(\"Converted List:\", my_list)"
   ]
  },
  {
   "cell_type": "code",
   "execution_count": 4,
   "id": "e5877bd6-3103-4793-8f09-78203042d78f",
   "metadata": {},
   "outputs": [
    {
     "name": "stdout",
     "output_type": "stream",
     "text": [
      "Original set: {1, 2, 3, 4, 5}\n",
      "Updated set after removing 2 : {1, 3, 4, 5}\n"
     ]
    }
   ],
   "source": [
    "#remove a random element from a set \n",
    "import random  # Import the random module\n",
    "\n",
    "my_set = {1, 2, 3, 4, 5}\n",
    "\n",
    "print(\"Original set:\", my_set)\n",
    "\n",
    "random_element = random.choice(list(my_set))\n",
    "\n",
    "my_set.remove(random_element)\n",
    "\n",
    "print(\"Updated set after removing\", random_element, \":\", my_set)"
   ]
  },
  {
   "cell_type": "code",
   "execution_count": 5,
   "id": "2df64663-3228-488e-a76a-23151fc183cf",
   "metadata": {},
   "outputs": [
    {
     "name": "stdout",
     "output_type": "stream",
     "text": [
      "Original set: {1, 2, 3, 4, 5}\n",
      "Popped element: 1\n",
      "Set after popping: {2, 3, 4, 5}\n"
     ]
    }
   ],
   "source": [
    "#pop an element from a set \n",
    "my_set = {1, 2, 3, 4, 5}\n",
    "\n",
    "print(\"Original set:\", my_set)\n",
    "\n",
    "popped_element = my_set.pop()\n",
    "\n",
    "print(\"Popped element:\", popped_element)\n",
    "\n",
    "print(\"Set after popping:\", my_set)"
   ]
  },
  {
   "cell_type": "code",
   "execution_count": 6,
   "id": "c2e3643a-59f3-4dd4-a2d4-d9408092969e",
   "metadata": {},
   "outputs": [
    {
     "name": "stdout",
     "output_type": "stream",
     "text": [
      "The two sets have no elements in common.\n"
     ]
    }
   ],
   "source": [
    "#check if two set have no element in common \n",
    "set1 = {1, 2, 3, 4}\n",
    "set2 = {5, 6, 7, 8}\n",
    "\n",
    "\n",
    "common_elements = set1.intersection(set2)\n",
    "\n",
    "\n",
    "if not common_elements:\n",
    "    print(\"The two sets have no elements in common.\")\n",
    "else:\n",
    "    print(\"The two sets have common elements:\", common_elements)"
   ]
  },
  {
   "cell_type": "code",
   "execution_count": 7,
   "id": "48b095c4-3bba-4051-8e85-5775336c82c3",
   "metadata": {},
   "outputs": [
    {
     "name": "stdout",
     "output_type": "stream",
     "text": [
      "Symmetric Difference: {1, 2, 3, 6, 7, 8}\n"
     ]
    }
   ],
   "source": [
    "#find the symmetric difference between two sets \n",
    "set1 = {1, 2, 3, 4, 5}\n",
    "set2 = {4, 5, 6, 7, 8}\n",
    "\n",
    "symmetric_difference = set1 ^ set2\n",
    "\n",
    "print(\"Symmetric Difference:\", symmetric_difference)"
   ]
  },
  {
   "cell_type": "code",
   "execution_count": 8,
   "id": "383c793a-853b-42bd-8d5d-9b47b4154631",
   "metadata": {},
   "outputs": [
    {
     "name": "stdout",
     "output_type": "stream",
     "text": [
      "Set 1: {1, 2, 3}\n",
      "Set 2: {3, 4, 5}\n",
      "Updated Set 1: {1, 2, 3, 4, 5}\n"
     ]
    }
   ],
   "source": [
    "#update a set with elements from a another set \n",
    "set1 = {1, 2, 3}\n",
    "print(\"Set 1:\", set1)\n",
    "\n",
    "set2 = {3, 4, 5}\n",
    "print(\"Set 2:\", set2)\n",
    "\n",
    "set1.update(set2)\n",
    "print(\"Updated Set 1:\", set1)"
   ]
  },
  {
   "cell_type": "code",
   "execution_count": 9,
   "id": "5e8d0b0e-76eb-4f61-8549-c661ec44125e",
   "metadata": {},
   "outputs": [
    {
     "name": "stdout",
     "output_type": "stream",
     "text": [
      "Set of the first 5 prime numbers: {2, 3, 5, 7, 11}\n"
     ]
    }
   ],
   "source": [
    "#create a set of d=first 5 prime numbers \n",
    "def is_prime(num):\n",
    "    if num <= 1:\n",
    "        return False\n",
    "    for i in range(2, int(num ** 0.5) + 1):\n",
    "        if num % i == 0:\n",
    "            return False\n",
    "    return True\n",
    "prime_set = set()\n",
    "\n",
    "num = 2\n",
    "\n",
    "while len(prime_set) < 5:\n",
    "  \n",
    "    if is_prime(num):\n",
    "\n",
    "        prime_set.add(num)\n",
    "    num += 1\n",
    "print(\"Set of the first 5 prime numbers:\", prime_set)"
   ]
  },
  {
   "cell_type": "code",
   "execution_count": 10,
   "id": "893213fa-7257-4f4f-9f0f-344fa648242f",
   "metadata": {},
   "outputs": [
    {
     "name": "stdout",
     "output_type": "stream",
     "text": [
      "The sets are identical.\n"
     ]
    }
   ],
   "source": [
    "#check if two sets are identical\n",
    "set1 = {1, 2, 3, 4, 5}\n",
    "set2 = {3, 1, 5, 2, 4} \n",
    "if set1 == set2:\n",
    "    print(\"The sets are identical.\")\n",
    "else:\n",
    "    print(\"The sets are not identical.\")"
   ]
  },
  {
   "cell_type": "code",
   "execution_count": 11,
   "id": "aaacab36-ff5d-4604-8f34-8941c84d4df3",
   "metadata": {},
   "outputs": [
    {
     "name": "stdout",
     "output_type": "stream",
     "text": [
      "Frozen Set: frozenset({1, 2, 3, 4, 5})\n"
     ]
    }
   ],
   "source": [
    "#create a frozen set \n",
    "elements = [1, 2, 3, 4, 5]\n",
    "\n",
    "my_frozen_set = frozenset(elements)\n",
    "\n",
    "print(\"Frozen Set:\", my_frozen_set)"
   ]
  },
  {
   "cell_type": "code",
   "execution_count": 13,
   "id": "bfe911c2-0ce5-4a12-b484-93623193f075",
   "metadata": {},
   "outputs": [
    {
     "name": "stdout",
     "output_type": "stream",
     "text": [
      "Are the sets disjoint? True\n"
     ]
    }
   ],
   "source": [
    "#check ifa set is disjoint \n",
    "set1 = {1, 2, 3, 4}\n",
    "set2 = {5, 6, 7, 8}\n",
    "\n",
    "disjoint_status = set1.isdisjoint(set2)\n",
    "\n",
    "print(\"Are the sets disjoint?\", disjoint_status)"
   ]
  },
  {
   "cell_type": "code",
   "execution_count": 14,
   "id": "60ad6e8e-c445-4957-bc0e-1ad354843e21",
   "metadata": {},
   "outputs": [
    {
     "name": "stdout",
     "output_type": "stream",
     "text": [
      "{1, 4, 9, 16, 25}\n"
     ]
    }
   ],
   "source": [
    "#create a set of squares of numbers from 1 to 5 \n",
    "squares_set = set()\n",
    "\n",
    "for num in range(1, 6):\n",
    "\n",
    "    square = num ** 2\n",
    "\n",
    "    squares_set.add(square)\n",
    "\n",
    "print(squares_set)"
   ]
  },
  {
   "cell_type": "code",
   "execution_count": 15,
   "id": "1b75b3e5-b596-4310-86e6-0633f911be59",
   "metadata": {},
   "outputs": [
    {
     "name": "stdout",
     "output_type": "stream",
     "text": [
      "Generated set of random numbers: {32, 64, 73, 19, 93}\n"
     ]
    }
   ],
   "source": [
    "#create a set of random number \n",
    "import random\n",
    "\n",
    "num_random_numbers = 5\n",
    "\n",
    "random_number_set = set()\n",
    "\n",
    "for _ in range(num_random_numbers):\n",
    "\n",
    "    random_num = random.randint(1, 100) \n",
    "    random_number_set.add(random_num)\n",
    "\n",
    "print(\"Generated set of random numbers:\", random_number_set)"
   ]
  },
  {
   "cell_type": "code",
   "execution_count": 16,
   "id": "30d38d26-13f1-4b4a-934d-2e541087781c",
   "metadata": {},
   "outputs": [
    {
     "name": "stdout",
     "output_type": "stream",
     "text": [
      "The set is empty.\n"
     ]
    }
   ],
   "source": [
    "#check if set is empty \n",
    "my_set = set()\n",
    "\n",
    "# Step 2: Check if the set is empty using the 'if' statement\n",
    "if not my_set:\n",
    "    print(\"The set is empty.\")\n",
    "else:\n",
    "    print(\"The set is not empty.\")"
   ]
  },
  {
   "cell_type": "code",
   "execution_count": 17,
   "id": "27f02ef7-7d29-4837-a589-8550c8adcb1c",
   "metadata": {},
   "outputs": [
    {
     "name": "stdout",
     "output_type": "stream",
     "text": [
      "Nested Set: {frozenset({1, 2, 3, 4, 5}), frozenset({6, 7, 8, 9, 10})}\n"
     ]
    }
   ],
   "source": [
    "#create a nested seet \n",
    "set1 = {1, 2, 3, 4, 5}\n",
    "set2 = {6, 7, 8, 9, 10}\n",
    "\n",
    "frozen_set1 = frozenset(set1)\n",
    "frozen_set2 = frozenset(set2)\n",
    "\n",
    "nested_set = {frozen_set1, frozen_set2}\n",
    "\n",
    "print(\"Nested Set:\", nested_set)"
   ]
  },
  {
   "cell_type": "code",
   "execution_count": 18,
   "id": "5ecbb2b7-9db5-46f5-8f1a-98019eadd1ca",
   "metadata": {},
   "outputs": [
    {
     "name": "stdout",
     "output_type": "stream",
     "text": [
      "Initial set: {1, 2, 3, 4, 5}\n",
      "Set after removing 3 : {1, 2, 4, 5}\n"
     ]
    }
   ],
   "source": [
    "#Remove all element from a set using discard \n",
    "my_set = {1, 2, 3, 4, 5}\n",
    "\n",
    "# Display the initial set\n",
    "print(\"Initial set:\", my_set)\n",
    "\n",
    "# Define the element to be removed\n",
    "element_to_remove = 3\n",
    "\n",
    "# Use the discard() method to remove the element from the set\n",
    "# If the element is not present in the set, discard() won't raise an error\n",
    "my_set.discard(element_to_remove)\n",
    "\n",
    "# Display the set after removing the element\n",
    "print(\"Set after removing\", element_to_remove, \":\", my_set)"
   ]
  },
  {
   "cell_type": "code",
   "execution_count": 19,
   "id": "7e37e247-4eb4-4621-8d4d-eabd501983c9",
   "metadata": {},
   "outputs": [
    {
     "name": "stdout",
     "output_type": "stream",
     "text": [
      "Set 1: {1, 2, 3, 4, 5}\n",
      "Set 2: {4, 5, 6, 7, 8}\n",
      "Is set1 a subset of set2? False\n",
      "Is set2 a subset of set1? False\n",
      "Intersection: {4, 5}\n",
      "Union: {1, 2, 3, 4, 5, 6, 7, 8}\n",
      "Elements in set1 but not in set2: {1, 2, 3}\n",
      "Elements in set2 but not in set1: {8, 6, 7}\n"
     ]
    }
   ],
   "source": [
    "#compsre 2 sets\n",
    "set1 = {1, 2, 3, 4, 5}\n",
    "set2 = {4, 5, 6, 7, 8}\n",
    "\n",
    "is_subset = set1.issubset(set2)\n",
    "\n",
    "is_superset = set1.issuperset(set2)\n",
    "\n",
    "intersection = set1.intersection(set2)\n",
    "\n",
    "union = set1.union(set2)\n",
    "\n",
    "difference1 = set1.difference(set2)\n",
    "\n",
    "difference2 = set2.difference(set1)\n",
    "\n",
    "print(\"Set 1:\", set1)\n",
    "print(\"Set 2:\", set2)\n",
    "print(\"Is set1 a subset of set2?\", is_subset)\n",
    "print(\"Is set2 a subset of set1?\", is_superset)\n",
    "print(\"Intersection:\", intersection)\n",
    "print(\"Union:\", union)\n",
    "print(\"Elements in set1 but not in set2:\", difference1)\n",
    "print(\"Elements in set2 but not in set1:\", difference2)"
   ]
  },
  {
   "cell_type": "code",
   "execution_count": 20,
   "id": "6f8701d7-6e3b-4cdb-b090-dc9c4553b05c",
   "metadata": {},
   "outputs": [
    {
     "name": "stdout",
     "output_type": "stream",
     "text": [
      "{'h', 'o', 'l', 'e'}\n"
     ]
    }
   ],
   "source": [
    "#create a set from a string \n",
    "input_string = \"hello\"\n",
    "char_set = set(input_string)\n",
    "print(char_set)"
   ]
  },
  {
   "cell_type": "code",
   "execution_count": 21,
   "id": "9134dd60-cc53-4d27-8fad-f8990445782c",
   "metadata": {},
   "outputs": [
    {
     "name": "stdout",
     "output_type": "stream",
     "text": [
      "Original String Set: {'123', '456', '789'}\n",
      "Converted Integer Set: {456, 123, 789}\n"
     ]
    }
   ],
   "source": [
    "#convert a set of strings to set of integers \n",
    "string_set = {\"123\", \"456\", \"789\"}\n",
    "integer_set = set()\n",
    "for string in string_set:\n",
    "    integer_value = int(string)\n",
    "\n",
    "    integer_set.add(integer_value)\n",
    "print(\"Original String Set:\", string_set)\n",
    "print(\"Converted Integer Set:\", integer_set)"
   ]
  },
  {
   "cell_type": "code",
   "execution_count": 22,
   "id": "22a58661-d5e4-4536-a24e-407f6f86db80",
   "metadata": {},
   "outputs": [
    {
     "name": "stdout",
     "output_type": "stream",
     "text": [
      "Maximum value: 22\n"
     ]
    }
   ],
   "source": [
    "#find the maximum a value in a set \n",
    "my_set = {15, 7, 22, 13, 8}\n",
    "max_value = None\n",
    "for num in my_set:\n",
    "  \n",
    "    if max_value is None or num > max_value:\n",
    "        max_value = num \n",
    "print(\"Maximum value:\", max_value)"
   ]
  },
  {
   "cell_type": "code",
   "execution_count": 23,
   "id": "452283e6-005b-4b2a-a6f0-e17c333b04de",
   "metadata": {},
   "outputs": [
    {
     "name": "stdout",
     "output_type": "stream",
     "text": [
      "Enter elements for the set (type 'done' to finish):\n"
     ]
    },
    {
     "name": "stdin",
     "output_type": "stream",
     "text": [
      ">  67,78n98, 76, 46\n",
      ">  jk\n",
      ">  ugthj\n",
      ">  guhn\n",
      ">  6789\n",
      ">  TRue\n",
      ">  done\n"
     ]
    },
    {
     "name": "stdout",
     "output_type": "stream",
     "text": [
      "Final set: {'done'}\n"
     ]
    }
   ],
   "source": [
    "#create a set from user input \n",
    "user_set = set()\n",
    "\n",
    "print(\"Enter elements for the set (type 'done' to finish):\")\n",
    "while True:\n",
    "    user_input = input(\"> \")\n",
    "\n",
    "    if user_input.lower() == 'done':\n",
    "        break \n",
    "user_set.add(user_input)\n",
    "\n",
    "print(\"Final set:\", user_set)"
   ]
  },
  {
   "cell_type": "code",
   "execution_count": 24,
   "id": "f098c0c9-50be-4a0a-bbc8-6e2e2290e461",
   "metadata": {},
   "outputs": [
    {
     "name": "stdout",
     "output_type": "stream",
     "text": [
      "Set of the first 5 Fibonacci numbers: {0, 1, 2, 3, 5}\n"
     ]
    }
   ],
   "source": [
    "#create a set of the first 5 fibonanci numbers \n",
    "fibonacci_set = set()\n",
    "a, b = 0, 1\n",
    "for _ in range(6):\n",
    "    fibonacci_set.add(a)\n",
    "    a, b = b, a + b\n",
    "print(\"Set of the first 5 Fibonacci numbers:\", fibonacci_set)"
   ]
  },
  {
   "cell_type": "code",
   "execution_count": 25,
   "id": "119cd720-2806-4ec7-8249-a6d13460467f",
   "metadata": {},
   "outputs": [
    {
     "name": "stdout",
     "output_type": "stream",
     "text": [
      "Original List: [2, 4, 6, 8, 4, 10, 6, 12, 14, 8]\n",
      "List with Duplicates Removed: [2, 4, 6, 8, 10, 12, 14]\n"
     ]
    }
   ],
   "source": [
    "#remove duplicates from a list using set \n",
    "original_list = [2, 4, 6, 8, 4, 10, 6, 12, 14, 8]\n",
    "\n",
    "unique_set = set(original_list)\n",
    "unique_list = list(unique_set)\n",
    "print(\"Original List:\", original_list)\n",
    "print(\"List with Duplicates Removed:\", unique_list)"
   ]
  },
  {
   "cell_type": "code",
   "execution_count": 26,
   "id": "b289a2ef-ecea-486e-bc56-53abf05a4b5c",
   "metadata": {},
   "outputs": [
    {
     "name": "stdout",
     "output_type": "stream",
     "text": [
      "The sets have the same elements.\n"
     ]
    }
   ],
   "source": [
    "#check if two set have the set element regardless of their count \n",
    "def have_same_elements(set1, set2):\n",
    "    sorted_list1 = sorted(list(set1))\n",
    "    sorted_list2 = sorted(list(set2))\n",
    "    return sorted_list1 == sorted_list2\n",
    "\n",
    "set1 = {1, 2, 3, 2, 1}\n",
    "set2 = {3, 1, 2}\n",
    "result = have_same_elements(set1, set2)\n",
    "if result:\n",
    "    print(\"The sets have the same elements.\")\n",
    "else:\n",
    "    print(\"The sets do not have the same elements.\")"
   ]
  },
  {
   "cell_type": "code",
   "execution_count": 27,
   "id": "c683ef16-c249-4ec7-9cad-ded16890ffc2",
   "metadata": {},
   "outputs": [
    {
     "name": "stdout",
     "output_type": "stream",
     "text": [
      "Common elements: [7, 9, 12]\n"
     ]
    }
   ],
   "source": [
    "#find the common element b/w a set and a list \n",
    "my_set = {3, 7, 9, 12, 15}\n",
    "my_list = [7, 12, 5, 9]\n",
    "list_to_set = set(my_list)\n",
    "common_elements = []\n",
    "for element in my_set:\n",
    "    if element in list_to_set:\n",
    "     \n",
    "        common_elements.append(element)\n",
    "\n",
    "print(\"Common elements:\", common_elements)"
   ]
  },
  {
   "cell_type": "code",
   "execution_count": 28,
   "id": "6deb7720-031b-436f-8dd3-a5e3ee58b318",
   "metadata": {},
   "outputs": [
    {
     "name": "stdout",
     "output_type": "stream",
     "text": [
      "set2 is a subset of set1\n"
     ]
    }
   ],
   "source": [
    "#check if a set contains another set as a subset \n",
    "set1 = {1, 2, 3, 4, 5}\n",
    "set2 = {3, 4}\n",
    "is_subset = set2.issubset(set1)\n",
    "if is_subset:\n",
    "    print(\"set2 is a subset of set1\")\n",
    "else:\n",
    "    print(\"set2 is not a subset of set1\")"
   ]
  },
  {
   "cell_type": "code",
   "execution_count": 40,
   "id": "c26d4ce7-3752-4543-9f73-882f4f2e75b6",
   "metadata": {},
   "outputs": [
    {
     "name": "stdout",
     "output_type": "stream",
     "text": [
      "{0, 1}\n"
     ]
    }
   ],
   "source": [
    "#create a list of alternating 0 and 1 \n",
    "def create_alternating_set(n):\n",
    "   \n",
    "    alternating_set = set()\n",
    "\n",
    "    for i in range(n):\n",
    "    \n",
    "        if i % 2 == 0:\n",
    "            alternating_set.add(1) \n",
    "        else:\n",
    "            alternating_set.add(0)  \n",
    "\n",
    "    return alternating_set\n",
    "length_n = 10\n",
    "result = create_alternating_set(length_n)\n",
    "\n",
    "print(result)"
   ]
  },
  {
   "cell_type": "code",
   "execution_count": 41,
   "id": "461d5806-1eb0-4a79-a92c-d334665d015e",
   "metadata": {},
   "outputs": [
    {
     "name": "stdout",
     "output_type": "stream",
     "text": [
      "Merged Set: {1, 2, 3, 4, 5, 6, 7}\n"
     ]
    }
   ],
   "source": [
    "#merge two set into 1\n",
    "set1 = {1, 2, 3}\n",
    "set2 = {3, 4, 5}\n",
    "set3 = {5, 6, 7}\n",
    "\n",
    "merged_set = set1.union(set2, set3)\n",
    "print(\"Merged Set:\", merged_set)"
   ]
  },
  {
   "cell_type": "code",
   "execution_count": null,
   "id": "338e057c-e653-44d9-9453-ef395508bc97",
   "metadata": {},
   "outputs": [],
   "source": []
  }
 ],
 "metadata": {
  "kernelspec": {
   "display_name": "Python 3 (ipykernel)",
   "language": "python",
   "name": "python3"
  },
  "language_info": {
   "codemirror_mode": {
    "name": "ipython",
    "version": 3
   },
   "file_extension": ".py",
   "mimetype": "text/x-python",
   "name": "python",
   "nbconvert_exporter": "python",
   "pygments_lexer": "ipython3",
   "version": "3.10.8"
  }
 },
 "nbformat": 4,
 "nbformat_minor": 5
}
